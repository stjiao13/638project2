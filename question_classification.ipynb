{
 "cells": [
  {
   "cell_type": "markdown",
   "metadata": {},
   "source": [
    "## Question Classification"
   ]
  },
  {
   "cell_type": "code",
   "execution_count": null,
   "metadata": {},
   "outputs": [],
   "source": [
    "from nltk.tag.stanford import StanfordPOSTagger\n",
    "from nltk.corpus import wordnet as wn\n",
    "pos_jar = './stanford-pos-tagger/stanford-postagger.jar'\n",
    "modelfile = './stanford-pos-tagger/english-bidirectional-distsim.tagger'\n",
    "\n",
    "st = StanfordPOSTagger(model_filename=modelfile, path_to_jar=pos_jar)\n",
    "st.tag(\"what is in front of the notre dame main building?\".split())"
   ]
  },
  {
   "cell_type": "code",
   "execution_count": null,
   "metadata": {},
   "outputs": [],
   "source": [
    "def classWithHeadWord(head, headNext):\n",
    "    personList = ['who', 'whom']\n",
    "    locationList = ['where', 'whence', 'whither']\n",
    "    quantityList = ['few', 'great', 'little', 'many', 'much']\n",
    "    if head in personList or headNext in personList:\n",
    "        return 'PERSON'\n",
    "    elif head in locationList:\n",
    "        return 'LOCATION'\n",
    "    elif head == 'how' and headNext in quantityList:\n",
    "        return 'QUANTITY'\n",
    "    elif head == 'when':\n",
    "        return 'TIME' # if question type is returned as 'TIME', also check 'DATE' in answer sentence\n",
    "    else:\n",
    "        return 'OTHER'"
   ]
  },
  {
   "cell_type": "code",
   "execution_count": null,
   "metadata": {},
   "outputs": [],
   "source": [
    "def findWordList(word):\n",
    "    check_word_list = []\n",
    "    check_word_list.append(word)\n",
    "    for synset in wn.synsets(word):\n",
    "        hypernyms = synset.hypernyms()\n",
    "        for hypernym in hypernyms:\n",
    "            current_word = hypernym.name().split('.')[0]\n",
    "            check_word_list.append(current_word)\n",
    "            for parent_synset in wn.synsets(current_word):\n",
    "                parent_hypernyms = parent_synset.hypernyms()\n",
    "                for parent_hypernym in parent_hypernyms:\n",
    "                    parent_current_word = parent_hypernym.name().split('.')[0]\n",
    "                    check_word_list.append(parent_current_word)\n",
    "        check_word_list.append(synset.name().split('.')[0])\n",
    "        \n",
    "    return list(set(check_word_list))"
   ]
  },
  {
   "cell_type": "code",
   "execution_count": null,
   "metadata": {},
   "outputs": [],
   "source": [
    "def matchList(checkList):\n",
    "    entities = ['PERSON', 'NORP', 'FACILITY', 'ORGANIZATION', 'GPE', 'LOCATION', 'PRODUCT', 'EVENT', 'WORK OF ART', 'LAW', 'LANGUAGE',\n",
    "             'DATE', 'TIME', 'PERCENT', 'MONEY', 'QUANTITY', 'ORDINAL', 'CARDINAL']\n",
    "    for synset in checkList:\n",
    "        synset = synset.upper()\n",
    "        for entity in entities:\n",
    "            if synset.find(entity) != -1:\n",
    "                return entity\n",
    "    return 'OTHER'"
   ]
  },
  {
   "cell_type": "code",
   "execution_count": null,
   "metadata": {},
   "outputs": [],
   "source": [
    "# a pre-defined dict to classify question type based on head noun\n",
    "pre_define_dict = {}\n",
    "pre_define_dict['NORP'] = ['nationality', 'religion']\n",
    "pre_define_dict['FACILITY'] = ['building', 'airports', 'highways', 'bridges']\n",
    "pre_define_dict['ORGANIZATION'] = ['company', 'agency', 'institution']\n",
    "pre_define_dict['GPE'] = ['country', 'city', 'state', 'province']\n",
    "pre_define_dict['LOCATION'] = ['mountain', 'lake', 'river']\n",
    "pre_define_dict['PRODUCT'] = ['vehicle', 'weapon', 'food']\n",
    "pre_define_dict['EVENT'] = ['disaster', 'battle', 'war']\n",
    "pre_define_dict['WORK OF ART'] = ['book', 'song', 'music', 'novel']\n",
    "pre_define_dict['DATE'] = ['decade', 'year', 'month', 'day']\n",
    "pre_define_dict['PERCENT'] = ['percent', 'percentage']"
   ]
  },
  {
   "cell_type": "code",
   "execution_count": null,
   "metadata": {},
   "outputs": [],
   "source": [
    "def classWithOtherWords(words):\n",
    "    wh_tag_list = ['WDT', 'WP', 'WP$', 'WRB']\n",
    "    tag_pairs = st.tag(words)\n",
    "    checkList = []\n",
    "    for i in range(len(tag_pairs)):\n",
    "        if tag_pairs[i][1] in wh_tag_list:\n",
    "\n",
    "            second_word = ''\n",
    "            if i + 1 <= len(tag_pairs):\n",
    "                second_word = tag_pairs[i + 1][0]\n",
    "            head_result = classWithHeadWord(tag_pairs[i][0], second_word)\n",
    "            if head_result != 'OTHER':\n",
    "                return head_result\n",
    "            else:\n",
    "                head_noun = ''\n",
    "                for j in range(i + 1, len(tag_pairs)):\n",
    "                    if (tag_pairs[j][1] == 'NN'):\n",
    "                        if j - 1 >= 0 and j + 1 < len(tag_pairs) and tag_pairs[j - 1][1] == 'IN' and tag_pairs[j + 1][1] == 'IN':\n",
    "                            continue\n",
    "                        head_noun = tag_pairs[j][0]\n",
    "                        break\n",
    "                if head_noun == '':\n",
    "                    return 'OTHER'\n",
    "                else:\n",
    "                    if head_noun.find('?') != -1:\n",
    "                        head_noun = head_noun.replace('?', '')\n",
    "                    \n",
    "                    for key, value in pre_define_dict.items():\n",
    "                        if head_noun in value:\n",
    "                            return key\n",
    "                    checkList = findWordList(head_noun)\n",
    "          \n",
    "    return matchList(checkList)"
   ]
  },
  {
   "cell_type": "code",
   "execution_count": null,
   "metadata": {},
   "outputs": [],
   "source": [
    "# this part takes about 10 mins to run\n",
    "\n",
    "question_classes = []\n",
    "times = {}\n",
    "num = 0\n",
    "times['first'] = 0\n",
    "times['second'] = 0\n",
    "times['others'] = 0\n",
    "for question in questions:\n",
    "    question = question.lower()\n",
    "    # print(question)\n",
    "    num += 1\n",
    "    if num % 100 == 0:\n",
    "        print(num)\n",
    "    words = question.split();\n",
    "    head_word_result = classWithHeadWord(words[0], words[1])\n",
    "    if head_word_result != 'OTHER':\n",
    "        question_classes.append(head_word_result)\n",
    "        times['first'] += 1\n",
    "    else:\n",
    "        other_word_result = classWithOtherWords(words)\n",
    "        if other_word_result == 'OTHER':\n",
    "            times['others'] += 1\n",
    "        else:\n",
    "            times['second'] += 1\n",
    "        question_classes.append(other_word_result)\n",
    "        \n",
    "print(str(times))\n",
    "\n",
    "# In answer extraction: \n",
    "# if question_classes[i] == 'OTHERS', it means our question classifier cannot recognize this question, then just return \"cannot be processed\"\n",
    "        "
   ]
  },
  {
   "cell_type": "code",
   "execution_count": null,
   "metadata": {},
   "outputs": [],
   "source": [
    "question_classes"
   ]
  }
 ],
 "metadata": {
  "kernelspec": {
   "display_name": "Python 3",
   "language": "python",
   "name": "python3"
  },
  "language_info": {
   "codemirror_mode": {
    "name": "ipython",
    "version": 3
   },
   "file_extension": ".py",
   "mimetype": "text/x-python",
   "name": "python",
   "nbconvert_exporter": "python",
   "pygments_lexer": "ipython3",
   "version": "3.6.4"
  }
 },
 "nbformat": 4,
 "nbformat_minor": 2
}
