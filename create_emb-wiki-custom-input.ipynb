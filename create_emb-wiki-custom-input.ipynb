{
 "cells": [
  {
   "cell_type": "code",
   "execution_count": 65,
   "metadata": {},
   "outputs": [],
   "source": [
    "\n",
    "import warnings\n",
    "warnings.filterwarnings('ignore')\n",
    "import pickle\n",
    "import numpy as np\n",
    "import pandas as pd\n",
    "import json\n",
    "from textblob import TextBlob\n",
    "import nltk\n",
    "from scipy import spatial\n",
    "import torch\n",
    "import spacy\n",
    "en_nlp = spacy.load('en')"
   ]
  },
  {
   "cell_type": "code",
   "execution_count": 66,
   "metadata": {},
   "outputs": [
    {
     "name": "stdout",
     "output_type": "stream",
     "text": [
      "Wikipedia ( (listen),  (listen) WIK-ih-PEE-dee-ə) is a multilingual, web-based, free encyclopedia based on a model of openly editable and viewable content, a wiki. It is the largest and most popular general reference work on the World Wide Web, and is one of the most popular websites by Alexa rank. It is owned and supported by the Wikimedia Foundation, a non-profit organization which operates on money it receives from donors.Wikipedia was launched on January 15, 2001, by Jimmy Wales and Larry Sanger. Sanger coined its name, as a portmanteau of wiki and \"encyclopedia\". Initially an English-language encyclopedia, versions in other languages were quickly developed. With 5,756,837 articles, the English Wikipedia is the largest of the more than 290 Wikipedia encyclopedias. Overall, Wikipedia comprises more than 40 million articles in 301 different languages and by February 2014 it had reached 18 billion page views and nearly 500 million unique visitors per month.In 2005, Nature published a peer review comparing 42 science articles from Encyclopædia Britannica and Wikipedia and found that Wikipedia's level of accuracy approached that of Britannica. Time magazine stated that the open-door policy of allowing anyone to edit had made Wikipedia the biggest and possibly the best encyclopedia in the world, and was a testament to the vision of Jimmy Wales.Wikipedia has been criticized for exhibiting systemic bias, for presenting a mixture of \"truths, half truths, and some falsehoods\", and for being subject to manipulation and spin in controversial topics. In 2017, Facebook announced that it would help readers detect fake news by suitable links to Wikipedia articles. YouTube announced a similar plan in 2018. In response, The Washington Post headlined, \"Wikipedia, the 'good cop' of the Internet\".\n"
     ]
    }
   ],
   "source": [
    "import wikipedia\n",
    "print(wikipedia.summary(\"Wikipedia\"))"
   ]
  },
  {
   "cell_type": "markdown",
   "metadata": {},
   "source": [
    "## Try to create embedding using google universal encoder (Not done yet)"
   ]
  },
  {
   "cell_type": "markdown",
   "metadata": {},
   "source": [
    "## Convert Json to Pandas Dataframe"
   ]
  },
  {
   "cell_type": "code",
   "execution_count": 67,
   "metadata": {},
   "outputs": [],
   "source": [
    "questions = []"
   ]
  },
  {
   "cell_type": "code",
   "execution_count": 68,
   "metadata": {},
   "outputs": [],
   "source": [
    "questions.append(\"How many Nobel laureates has Oxford educated?\")"
   ]
  },
  {
   "cell_type": "code",
   "execution_count": 69,
   "metadata": {},
   "outputs": [],
   "source": [
    "questions.append(\"When is Barack Obama born ?\")"
   ]
  },
  {
   "cell_type": "code",
   "execution_count": 70,
   "metadata": {},
   "outputs": [],
   "source": [
    "df2 = pd.DataFrame(data = questions, columns=['question'])"
   ]
  },
  {
   "cell_type": "code",
   "execution_count": 71,
   "metadata": {},
   "outputs": [],
   "source": [
    "df2['search'] = \"\""
   ]
  },
  {
   "cell_type": "code",
   "execution_count": 72,
   "metadata": {},
   "outputs": [],
   "source": [
    "df2['wiki_context'] = \"\""
   ]
  },
  {
   "cell_type": "code",
   "execution_count": 73,
   "metadata": {},
   "outputs": [],
   "source": [
    "def getWikiContext(df):\n",
    "#     i = 0\n",
    "#     for q in df['question'][500:501]:\n",
    "#         if i % 10 == 0:\n",
    "    for i in range(0,df.shape[0]):\n",
    "        print(i)\n",
    "        q = df['question'][i]\n",
    "        text = nltk.word_tokenize(q)\n",
    "        tags = nltk.pos_tag(text)\n",
    "        newquestion = \"\";\n",
    "        for tag in tags:\n",
    "            if tag[1] in noun_tags:\n",
    "                newquestion += tag[0] + \" \"\n",
    "        if newquestion == \"\":\n",
    "            newquestion = q\n",
    "#         print(newquestion)\n",
    "        search = wikipedia.search(q)\n",
    "        print(q)\n",
    "        df['search'][i] = q\n",
    "        df['wiki_context'][i] = \"\"\n",
    "        for res in search:\n",
    "            print(res)\n",
    "#             if df['wiki_context'][i] is None:\n",
    "            try:\n",
    "                print(wikipedia.summary(res))\n",
    "                df['wiki_context'][i] += (wikipedia.summary(res))\n",
    "#                     print(df['wiki_context'][i])\n",
    "            except wikipedia.exceptions.DisambiguationError as e:\n",
    "                continue\n",
    "#             else:\n",
    "#                 break\n",
    "        if df['wiki_context'][i] is None:\n",
    "            df['wiki_context'][i] = \"No wikipedia search result found\"\n",
    "        i = i + 1\n",
    "    return df"
   ]
  },
  {
   "cell_type": "code",
   "execution_count": 74,
   "metadata": {},
   "outputs": [],
   "source": [
    "noun_tags = ['NN','NNP','NNS','NNPS']"
   ]
  },
  {
   "cell_type": "code",
   "execution_count": 75,
   "metadata": {},
   "outputs": [
    {
     "name": "stdout",
     "output_type": "stream",
     "text": [
      "0\n",
      "How many Nobel laureates has Oxford educated?\n",
      "James Meade\n",
      "James Edward Meade,  (23 June 1907 – 22 December 1995) was a British economist and winner of the 1977 Nobel Memorial Prize in Economic Sciences jointly with the Swedish economist Bertil Ohlin for their \"pathbreaking contribution to the theory of international trade and international capital movements.\"\n",
      "Meade was born in Swanage, Dorset. He was educated at Malvern College and attended Oriel College, Oxford in 1926 to read Greats, but switched to Philosophy, Politics and Economics and gained an outstanding first. His interest in economics grew from an influential postgraduate year at Christ's College, Cambridge and Trinity College, Cambridge (1930–31), where he held frequent discussions with leading economists of the time including Dennis Robertson and John Maynard Keynes.\n",
      "After working in the League of Nations and the Cabinet Office, he was the leading economist of the early years of Attlee's government, before taking professorships at LSE (1947–57) and Cambridge (1957–67).\n",
      "\n",
      "\n",
      "Robert Cecil, 1st Viscount Cecil of Chelwood\n",
      "Edgar Algernon Robert Gascoyne-Cecil, 1st Viscount Cecil of Chelwood,  (14 September 1864 – 24 November 1958), known as Lord Robert Cecil from 1868 to 1923, was a British lawyer, politician and diplomat. He was one of the architects of the League of Nations and a defender of it, whose service to the organisation saw him awarded the Nobel Peace Prize in 1937.\n",
      "University of Oxford\n",
      "The University of Oxford is a collegiate research university in Oxford, England. There is evidence of teaching as far back as 1096, making it the oldest university in the English-speaking world and the world's second-oldest university in continuous operation. It grew rapidly from 1167 when Henry II banned English students from attending the University of Paris. After disputes between students and Oxford townsfolk in 1209, some academics fled north-east to Cambridge where they established what became the University of Cambridge. The two 'ancient universities' are frequently jointly referred to as 'Oxbridge'. The history and influence of the University of Oxford has made it one of the most prestigious universities in the world.The university is made up of 38 constituent colleges, and a range of academic departments which are organised into four divisions. All the colleges are self-governing institutions within the university, each controlling its own membership and with its own internal structure and activities. It does not have a main campus, and its buildings and facilities are scattered throughout the city centre. Undergraduate teaching at Oxford is organised around weekly tutorials at the colleges and halls, supported by classes, lectures, seminars, and laboratory work provided by university faculties and departments; some postgraduate teaching includes tutorials organised by faculties and departments. It operates the world's oldest university museum, as well as the largest university press in the world and the largest academic library system nationwide. The university is consistently cited as among the world's best.Oxford has educated many notable alumni, including 29 Nobel laureates, 27 prime ministers of the United Kingdom and many heads of state and government around the world. As of 2017, 69 Nobel Prize winners, 3 Fields Medalists, and 6 Turing Award winners have studied, worked, or held visiting fellowships at the University of Oxford. Its alumni have won 160 Olympic medals. Oxford is the home of the Rhodes Scholarship, one of the world's oldest international scholarships.\n",
      "Amartya Sen\n",
      "Amartya Kumar Sen,  (Bengali: [ˈɔmort:o ˈʃen]; born 3 November 1933) is an economist and philosopher, who since 1972 has taught and worked in India, the United Kingdom, and the United States. Sen has made contributions to welfare economics, social choice theory, economic and social justice, economic theories of famines, and indices of the measure of well-being of citizens of developing countries.\n",
      "He is the Thomas W. Lamont University Professor at Harvard University and member of faculty at Harvard Law School. He is a Fellow and former Master of Trinity College, Cambridge and was awarded the Nobel Memorial Prize in Economic Sciences in 1998 and India's Bharat Ratna in 1999 for his work in welfare economics. In 2017, Sen was awarded the Johan Skytte Prize in Political Science for most valuable contribution to Political Science.\n",
      "In 2004, Sen was ranked number 14 in BBC's poll of the Greatest Bengali of all time.\n",
      "Malala Yousafzai\n",
      "Malala Yousafzai (Malālah Yūsafzay: Urdu: ملالہ یوسفزئی‬‎; Pashto: ملاله یوسفزۍ‎ [məˈlaːlə jusəf ˈzəj]; born 12 July 1997) is a Pakistani activist for female education and the youngest Nobel Prize laureate. She is known for human rights advocacy, especially the education of women and children in her native Swat Valley in Khyber Pakhtunkhwa, northwest Pakistan, where the local Taliban had at times banned girls from attending school. Her advocacy has grown into an international movement, and according to Pakistani Prime Minister Shahid Khaqan Abbasi, she has become \"the most prominent citizen\" of the country.Yousafzai was born to a Pashtun family in Mingora, Khyber Pakhtunkhwa, Pakistan. Her family came to run a chain of schools in the region. Considering Muhammad Ali Jinnah and Benazir Bhutto as her role models, she was particularly inspired by her father's thoughts and humanitarian work. In early 2009, when she was 11–12, she wrote a blog under a pseudonym for the BBC Urdu detailing her life during the Taliban occupation of Swat. The following summer, journalist Adam B. Ellick made a New York Times documentary about her life as the Pakistani military intervened in the region. She rose in prominence, giving interviews in print and on television, and she was nominated for the International Children's Peace Prize by activist Desmond Tutu.\n",
      "On 9 October 2012, while on a bus in the Swat District, after taking an exam, Yousafzai and two other girls were shot by a Taliban gunman in an assassination attempt in retaliation for her activism; the gunman fled the scene. Yousafzai was hit in the head with a bullet and remained unconscious and in critical condition at the Rawalpindi Institute of Cardiology, but her condition later improved enough for her to be transferred to the Queen Elizabeth Hospital in Birmingham, UK.  The attempt on her life sparked an international outpouring of support for Yousafzai. Deutsche Welle reported in January 2013 that Yousafzai may have become \"the most famous teenager in the world\". Weeks after the attempted murder, a group of fifty leading Muslim clerics in Pakistan issued a fatwā against those who tried to kill her. The Taliban was internationally denounced by governments, human rights organizations and feminist groups. Taliban officials responded to condemnation by further denouncing Yousafzai, indicating plans for a possible second assassination attempt which was justified as a religious obligation. Their statements resulted in further international condemnation.Following her recovery, Yousafzai became a prominent activist for the right to education. Based out of Birmingham, she founded the Malala Fund, a non-profit organisation, and in 2013 co-authored I am Malala, an international best seller. In 2012, she was the recipient of Pakistan's first National Youth Peace Prize and the 2013 Sakharov Prize.  In 2014, she was the co-recipient of the 2014 Nobel Peace Prize, along with Kailash Satyarthi of India. Aged 17 at the time, this made her the youngest-ever Nobel Prize laureate. In 2015, Yousafzai was a subject of the Oscar-shortlisted documentary He Named Me Malala. The 2013, 2014 and 2015 issues of Time magazine featured her as one of the most influential people globally. In 2017, she was awarded honorary Canadian citizenship and became the youngest person to address the House of Commons of Canada. Yousafzai attended Edgbaston High School from 2013 to 2017, and is currently studying for a bachelor's degree in Philosophy, Politics and Economics at Lady Margaret Hall, Oxford.\n",
      "King's College, Cambridge\n",
      "King's College is a constituent college of the University of Cambridge in Cambridge, England.  Formally The King's College of Our Lady and Saint Nicholas in Cambridge, the college lies beside the River Cam and faces out onto King's Parade in the centre of the city.\n",
      "King's was founded in 1441 by Henry VI, soon after he had founded its sister college in Eton.  However, the King's plans for the college were disrupted by the Wars of the Roses and resultant scarcity of funds, and his eventual deposition. Little progress was made on the project until in 1508 Henry VII began to take an interest in the college, most likely as a political move to legitimise his new position.  The building of the college's chapel, begun in 1446, was finally finished in 1544 during the reign of Henry VIII.\n",
      "King's College Chapel, Cambridge is regarded as one of the greatest examples of late Gothic English architecture.  It has the world's largest fan vault, and the chapel's stained-glass windows and wooden chancel screen are considered some of the finest from their era.  The building is seen as emblematic of Cambridge.  The chapel's choir, composed of male students at King's and choristers from the nearby King's College School, is one of the most accomplished and renowned in the world.  Every year on Christmas Eve the Festival of Nine Lessons and Carols (a service devised specifically for King's by college dean Eric Milner-White) is broadcast from the chapel to millions of listeners worldwide.\n",
      "Aung San Suu Kyi\n",
      "Aung San Suu Kyi (; Burmese: အောင်ဆန်းစုကြည်; MLCTS: aung hcan: cu. krany Burmese pronunciation: [àʊɴ sʰáɴ sṵ tɕì]; born 19 June 1945) is a Burmese politician, diplomat, author, and Nobel Peace Prize laureate (1991). She is the leader of the National League for Democracy and the first and incumbent State Counsellor, a position akin to a prime minister. She is also the first woman to serve as Minister for Foreign Affairs, for the President's Office, for Electric Power and Energy, and for Education. From 2012 to 2016 she was an MP for Kawhmu Township to the House of Representatives.\n",
      "The youngest daughter of Aung San, Father of the Nation of modern-day Myanmar, and Khin Kyi, Aung San Suu Kyi was born in Rangoon, British Burma. After graduating from the University of Delhi in 1964 and the University of Oxford in 1968, she worked at the United Nations for three years. She married Michael Aris in 1972, with whom she had two children. Aung San Suu Kyi rose to prominence in the 1988 Uprisings, and became the General Secretary of the National League for Democracy (NLD), which she had newly formed with the help of several retired army officials who criticized the military junta. In the 1990 elections, NLD won 81% of the seats in Parliament, but the results were nullified, as the military refused to hand over power, resulting in an international outcry. She had, however, already been detained under house arrest before the elections. She remained under house arrest for almost 15 of the 21 years from 1989 to 2010, becoming one of the world's most prominent political prisoners.\n",
      "Her party boycotted the 2010 elections, resulting in a decisive victory for the military-backed Union Solidarity and Development Party. Aung San Suu Kyi became a Pyithu Hluttaw MP while her party won 43 of the 45 vacant seats in the 2012 by-elections. In the 2015 elections, her party won a landslide victory, taking 86% of the seats in the Assembly of the Union – well more than the 67 percent supermajority needed to ensure that its preferred candidates were elected President and Second Vice President in the Presidential Electoral College. Although she was prohibited from becoming the President due to a clause in the constitution – her late husband and children are foreign citizens – she assumed the newly created role of State Counsellor, a role akin to a Prime Minister or a head of government. Aung San Suu Kyi's honours include the Nobel Peace Prize, which she won in 1991. Time Magazine named her one of the \"Children of Gandhi\" and his spiritual heir to non-violence.Since ascending to the office of State Counsellor, Aung San Suu Kyi has drawn criticism from many countries, organisations and figures over her inaction to the persecution of the Rohingya people in Rakhine State and refusal to accept that Myanmar's military has committed massacres. Under her leadership, Myanmar has also drawn international criticism for prosecutions of journalists.\n",
      "Religiosity and education\n",
      "The relationship between the level of religiosity and the level of education has been studied since the second half of the 20th century.\n",
      "The parameters of the two components diverse: the \"level of religiosity\" remains a concept which is difficult to differentiate scientifically, while the \"level of education\" is easier to compile, such as official data on this topic, because data on education is publicly accessible in many countries.\n",
      "Different studies show contrasted conclusions regarding any link between the two concepts, depending on whether \"religiosity\" is measured by religious practices (attendance at places of worship, for example) or specific religious beliefs (belief in miracles, for example), with notable differences between nations. For example, an international study states that in some Western nations the intensity of beliefs decreases with education, but attendance and religious practice increases. Other studies indicate that the religious have higher education than the non-religious. Other studies find that the positive correlation with low or non religiosity and education has been reversed in the past few decades.In terms of university professors, one study concluded that in the US, the majority of professors, even at \"elite\" universities, were religious.\n",
      "Angus Deaton\n",
      "Sir Angus Stewart Deaton   (born 19 October 1945) is a British American economist and author. Deaton is currently a Senior Scholar and the Dwight D. Eisenhower Professor of Economics and International Affairs Emeritus at the Woodrow Wilson School of Public and International Affairs and the Economics Department at Princeton University. His research focuses primarily on poverty, inequality, health, wellbeing, and economic development.In 2015, he was awarded the Nobel Memorial Prize in Economic Sciences for his analysis of consumption, poverty, and welfare.\n",
      "Seamus Heaney\n",
      "Seamus Justin Heaney  (; 13 April 1939 – 30 August 2013) was an Irish poet, playwright and translator. He received the 1995 Nobel Prize in Literature. Among his best-known works is Death of a Naturalist (1966), his first major published volume.\n",
      "Heaney was born in the townland of Tamniaran between Castledawson and Toomebridge, Northern Ireland. His family moved to nearby Bellaghy when he was a boy. He became a lecturer at St. Joseph's College in Belfast in the early 1960s, after attending Queen's University and began to publish poetry. He lived in Sandymount, Dublin, from 1976 until his death. He also lived part-time in the United States from 1981 to 2006. Heaney was recognised as one of the principal contributors to poetry during his lifetime.\n",
      "Heaney was a professor at Harvard from 1981 to 1997, and its Poet in Residence from 1988 to 2006. From 1989 to 1994, he was also the Professor of Poetry at Oxford. In 1996, was made a Commandeur de l'Ordre des Arts et des Lettres and in 1998 was bestowed the title Saoi of the Aosdána. Other awards that he received include the Geoffrey Faber Memorial Prize (1968), the E. M. Forster Award (1975), the PEN Translation Prize (1985), the Golden Wreath of Poetry (2001), the T. S. Eliot Prize (2006) and two Whitbread Prizes (1996 and 1999). In 2011, he was awarded the Griffin Poetry Prize and in 2012, a Lifetime Recognition Award from the Griffin Trust. His literary papers are held by the National Library of Ireland.\n",
      "American poet Robert Lowell described him as \"the most important Irish poet since Yeats\", and many others, including the academic John Sutherland, have said that he was \"the greatest poet of our age\". Robert Pinsky has stated that \"with his wonderful gift of eye and ear Heaney has the gift of the story-teller.\" Upon his death in 2013, The Independent described him as \"probably the best-known poet in the world\".His body is buried at the Cemetery of St. Mary's Church, Bellaghy, Northern Ireland. The headstone bears the epitaph \"Walk on air against your better judgement\", from one of his poems, \"The Gravel Walks\".\n",
      "1\n",
      "When is Barack Obama born ?\n",
      "Barack Obama Sr.\n",
      "Barack Hussein Obama Sr. (; 18 June 1936 – 24 November 1982) was a Kenyan senior governmental economist and the father of Barack Obama, the 44th President of the United States. He is a central figure of his son's memoir, Dreams from My Father (1995). Obama married in 1954 and had two children with his first wife, Kezia. He was selected for a special program to attend college in the United States and studied at the University of Hawaii. There, Obama met Stanley Ann Dunham, whom he married in 1961, and with whom he had a son, Barack II. She divorced him three years later. The elder Obama later went to Harvard University for graduate school, where he earned an M.A. in economics, and returned to Kenya in 1964. He saw his son Barack once more, when he was about ten.\n",
      "In late 1964, Obama Sr. married Ruth Beatrice Baker, a Jewish-American woman whom he had met in Massachusetts. They had two sons together before separating in 1971 and divorcing in 1973. Obama first worked for an oil company, before beginning work as an economist with the Kenyan Ministry of Transport. He gained a promotion to senior economic analyst in the Ministry of Finance. He was among a cadre of young Kenyan men who had been educated in the West in a program supported by Tom Mboya. Obama Sr. had conflicts with Kenyan President Jomo Kenyatta, which adversely affected his career. He was fired and blacklisted in Kenya, finding it nearly impossible to get a job. Obama Sr. was involved in three serious car accidents during his final years; he died as a result of the last one in 1982.\n",
      "Family of Barack Obama\n",
      "The family of Barack Obama, the 44th President of the United States, and his wife Michelle Obama is made up of people of Kenyan (Luo), African-American, and Old Stock American (including originally English, Scots-Irish, Welsh, German, and Swiss) ancestry. Their immediate family was the First Family of the United States from 2009 to 2017. The Obamas are the first First Family of African-American descent.\n",
      "Barack Obama citizenship conspiracy theories\n",
      "During Barack Obama's campaign for president in 2008, throughout his presidency, and afterwards, a number of conspiracy theories falsely asserted Obama was ineligible to be President of the United States because he was not a natural-born citizen of the U.S. as required by Article Two of the Constitution.\n",
      "Theories alleged that Obama's published birth certificate was a forgery—that his actual birthplace was not Hawaii but Kenya. Other theories alleged that Obama became a citizen of Indonesia in childhood, thereby losing his U.S. citizenship. Still others claimed that Obama was not a natural-born U.S. citizen because he was born a dual citizen (British and American). A number of political commentators have characterized these various claims as a racist reaction to Obama's status as the first African-American president of the United States.These claims were promoted by fringe theorists (pejoratively referred to as \"birthers\"), some of whom sought court rulings either to declare Obama ineligible to take office, or granting access to various documents which they claimed would evidence such ineligibility; none of these efforts were successful. Some political opponents, especially in the Republican Party, have expressed skepticism about Obama's citizenship or been unwilling to acknowledge it; some have proposed legislation which would require presidential candidates to provide proof of eligibility.Expressed belief in such theories has persisted despite Obama's pre-election release of his official Hawaiian birth certificate in 2008, confirmation by the Hawaii Department of Health based on the original documents, the April 2011 release of a certified copy of Obama's original Certificate of Live Birth (or long-form birth certificate), and contemporaneous birth announcements published in Hawaii newspapers. Polls conducted in 2010 (before the April 2011 release) suggested that at least 25% of adult Americans said that they doubted Obama's U.S. birth, and subsequently a May 2011 Gallup poll found that the percentage had fallen to 13% of American adults (23% of Republicans) who continued to express such doubts.  This plummeting percentage of doubters has been attributed to President Obama's release of the long form in April 2011.\n",
      "Barack Obama\n",
      "Barack Hussein Obama II ( (listen); born August 4, 1961) is an American politician who served as the 44th President of the United States from 2009 to 2017. A member of the Democratic Party, he was the first African American to be elected to the presidency and previously served as a United States Senator from Illinois (2005–2008).\n",
      "Obama was born in 1961 in Honolulu, Hawaii, two years after the territory was admitted to the Union as the 50th state. After graduating from Columbia University in 1983, he worked as a community organizer in Chicago. In 1988, he enrolled in Harvard Law School, where he was the first black president of the Harvard Law Review. After graduating, he became a civil rights attorney and an academic, teaching constitutional law at the University of Chicago Law School from 1992 to 2004. He represented the 13th district for three terms in the Illinois Senate from 1997 to 2004, when he ran for the U.S. Senate. He received national attention in 2004 with his March primary win, his well-received July Democratic National Convention keynote address, and his landslide November election to the Senate. In 2008, he was nominated for president a year after his campaign began and after a close primary campaign against Hillary Clinton. He was elected over Republican John McCain and was inaugurated on January 20, 2009. Nine months later, he was named the 2009 Nobel Peace Prize laureate.\n",
      "During his first two years in office, Obama signed many landmark bills into law. The main reforms were the Patient Protection and Affordable Care Act (often referred to as \"Obamacare\", shortened as the \"Affordable Care Act\"), the Dodd–Frank Wall Street Reform and Consumer Protection Act, and the Don't Ask, Don't Tell Repeal Act of 2010. The American Recovery and Reinvestment Act of 2009 and Tax Relief, Unemployment Insurance Reauthorization, and Job Creation Act of 2010 served as economic stimulus amidst the Great Recession. After a lengthy debate over the national debt limit, he signed the Budget Control and the American Taxpayer Relief Acts. In foreign policy, he increased U.S. troop levels in Afghanistan, reduced nuclear weapons with the United States–Russia New START treaty, and ended military involvement in the Iraq War. He ordered military involvement in Libya in opposition to Muammar Gaddafi; Gaddafi was killed by NATO-assisted forces. He also ordered the military operations that resulted in the deaths of Osama bin Laden and suspected Yemeni Al-Qaeda operative Anwar al-Awlaki.\n",
      "After winning re-election by defeating Republican opponent Mitt Romney, Obama was sworn in for a second term in 2013. During this term, he promoted inclusiveness for LGBT Americans. His administration filed briefs that urged the Supreme Court to strike down same-sex marriage bans as unconstitutional (United States v. Windsor and Obergefell v. Hodges); same-sex marriage was fully legalized in 2015 after the Court ruled that a same-sex marriage ban was unconstitutional in Obergefell. He advocated for gun control in response to the Sandy Hook Elementary School shooting, indicating support for a ban on assault weapons, and issued wide-ranging executive actions concerning climate change and immigration. In foreign policy, he ordered military intervention in Iraq in response to gains made by ISIL after the 2011 withdrawal from Iraq, continued the process of ending U.S. combat operations in Afghanistan in 2016, promoted discussions that led to the 2015 Paris Agreement on global climate change, initiated sanctions against Russia following the invasion in Ukraine and again after Russian interference in the 2016 United States elections, brokered a nuclear deal with Iran, and normalized U.S. relations with Cuba. During his term in office, America's reputation in global polling significantly improved. Evaluations of his presidency among historians and the general public place him among the upper tier of American presidents. Obama left office in January 2017 and currently resides in Washington, D.C.\n",
      "Barack Obama religion conspiracy theories\n",
      "Allegations that Barack Obama secretly practices Islam, or that he is the antichrist of Christian eschatology, have been suggested since he campaigned for the U.S. Senate in 2004 and proliferated after his election as President of the U.S. in 2008. As with conspiracy theories surrounding his citizenship status, the claims are promoted by various fringe theorists and political opponents, with American bloggers and conservative talk radio hosts particularly promoting the theories.\n",
      "Belief in these claims in the public sphere endured and, in some cases, even expanded during Obama's presidency according to the Pew Research Center, with 17% of Americans (including one third of conservative Republicans) believing him to be a Muslim in a 2012 poll.Barack Obama is a Protestant Christian. While in his twenties, Obama was involved with the Black churches. From 1992 until 2008, he was a member of the Trinity United Church of Christ—a Reformed denomination. Obama left it in the wake of the Jeremiah Wright controversy. Since 2008, he attends various Protestant churches, including Baptist, Methodist and Episcopalian churches.\n",
      "Speeches of Barack Obama\n",
      "Barack Obama served as the 44th President of the United States from 2009 to 2017. Before his presidency, he served in the Illinois Senate (1997–2004) and the United States Senate (2005–2008).\n",
      "It was during his campaign for the United States Senate that he first made a speech that received nationwide attention; he gave the keynote address at the 2004 Democratic National Convention. and stated \"there is not a liberal America and a conservative America—there is the United States of America\". Obama began to run for president just three years after that speech. In response to a political controversy involving race during the primary campaign, he delivered his \"A More Perfect Union\" speech, which was widely seen as a critical point in the campaign.\n",
      "Obama won election to the presidency in 2008 and re-election in 2012. Among the hundreds of speeches he has delivered since then include six speeches before Congress (including four State of the Union addresses), two victory speeches, a speech to the Islamic world in Egypt early in his first term, and a speech following the shooting of Congresswoman Gabrielle Giffords.\n",
      "On 10 Jan 2017, We Are The Change We Seek, a collection of Barack Obama's greatest speeches selected and introduced by columnist E.J. Dionne and MSNBC host Joy-Ann Reid was published by Bloomsbury Publishing.\n",
      "Efforts to impeach Barack Obama\n",
      "During Barack Obama's tenure as President of the United States from 2009 to 2017, certain Republican members of Congress, as well as Democratic congressman Dennis Kucinich, stated that Obama had engaged in impeachable activity and that he might face attempts to remove him from office. Rationales offered for possible impeachment included false claims that Obama was born outside the United States, that he allegedly allowed people to use bathrooms based on their gender identity, an alleged White House cover-up after the 2012 Benghazi attack, and failure to enforce immigration laws.  No list of articles of impeachment was ever drawn up and proposed to the Judiciary Committee.\n",
      "Multiple surveys of U.S. public opinion found that the clear majority of Americans rejected the idea of impeaching Obama, while a majority of Republicans were in favor; for example, CNN found in July 2014 that 57% of Republicans supported efforts while about two thirds of adult Americans in general disagreed.\n",
      "Early life and career of Barack Obama\n",
      "Barack Obama, the 44th President of the United States, was born on August 4, 1961 in Honolulu, Hawaii to Barack Obama, Sr. (1936–1982) (born in Rachuonyo District, British Kenya) and Stanley Ann Dunham, known as Ann (1942–1995) (born in Wichita, Kansas, United States).Barack Obama spent most of his childhood years in Honolulu, where his mother attended the University of Hawaii at Manoa. Obama started a close relationship with his maternal grandparents. In 1965, his mother remarried to Lolo Soetoro from Indonesia. Two years later, Dunham took Obama with her to Indonesia to reunite him with his stepfather. In 1971, Obama returned to Honolulu to attend Punahou School, from which he graduated in 1979.\n",
      "As a young adult, Obama moved to the contiguous United States, where he was educated at Occidental College, Columbia University, and Harvard Law School. In Chicago, Obama worked at various times as a community organizer, lawyer, Lecturer and Senior Lecturer of constitutional law at the University of Chicago Law School in the city's South Side, and later published his memoir Dreams from My Father before beginning his political career in 1997 as a member of the Illinois Senate.\n",
      "Presidency of Barack Obama\n",
      "The presidency of Barack Obama began at noon EST on January 20, 2009, when Barack Obama was inaugurated as the 44th President of the United States, and ended on January 20, 2017. Obama, a Democrat, took office following a decisive victory over Republican John McCain in the 2008 presidential election. Four years later, in the 2012 election, he defeated Republican Mitt Romney to win re-election. He was the first African American president, the first multiracial president, the first non-white president, and the first president to have been born in Hawaii. Obama was succeeded by Republican Donald Trump, who won the 2016 presidential election.\n",
      "Obama's first-term actions addressed the global financial crisis and included a major stimulus package, a partial extension of the Bush tax cuts, legislation to reform health care, a major financial regulation reform bill, and the end of a major US military presence in Iraq. Obama also appointed Supreme Court Justices Elena Kagan and Sonia Sotomayor, the latter of whom became the first Hispanic American on the Supreme Court. Democrats controlled both houses of Congress until Republicans won a majority in the House of Representatives in the 2010 elections. Following the elections, Obama and Congressional Republicans engaged in a protracted stand-off over government spending levels and the debt ceiling. The Obama administration's policy against terrorism downplayed Bush's counterinsurgency model, expanding air strikes and making extensive use of special forces and encouraging greater reliance on host-government militaries. The Obama administration orchestrated the military operation that resulted in the death of Osama bin Laden in 2011.\n",
      "In his second term, Obama took steps to combat climate change, signing a major international climate agreement and an executive order to limit carbon emissions. Obama also presided over the implementation of the Affordable Care Act and other legislation passed in his first term, and he negotiated rapprochements with Iran and Cuba. The number of American soldiers in Afghanistan fell dramatically during Obama's second term, though U.S. soldiers remained in Afghanistan throughout Obama's presidency and continue to as of 2018. Republicans took control of the Senate after the 2014 elections, and Obama continued to grapple with Congressional Republicans over government spending, immigration, judicial nominations, and other issues.\n",
      "Barack Obama 2008 presidential election victory speech\n",
      "Following his victory in the United States presidential election, 2008, then-President-elect Barack Obama gave his victory speech at Grant Park in his home city of Chicago, Illinois, on November 4, 2008, before an estimated crowd of 240,000. Viewed on television and the Internet by millions of people around the globe, Obama's speech focused on the major issues facing the United States and the world, all echoed through his campaign slogan of change. He also mentioned his maternal grandmother Madelyn Dunham, who had died just two nights earlier.\n"
     ]
    },
    {
     "data": {
      "text/html": [
       "<div>\n",
       "<style scoped>\n",
       "    .dataframe tbody tr th:only-of-type {\n",
       "        vertical-align: middle;\n",
       "    }\n",
       "\n",
       "    .dataframe tbody tr th {\n",
       "        vertical-align: top;\n",
       "    }\n",
       "\n",
       "    .dataframe thead th {\n",
       "        text-align: right;\n",
       "    }\n",
       "</style>\n",
       "<table border=\"1\" class=\"dataframe\">\n",
       "  <thead>\n",
       "    <tr style=\"text-align: right;\">\n",
       "      <th></th>\n",
       "      <th>question</th>\n",
       "      <th>search</th>\n",
       "      <th>wiki_context</th>\n",
       "    </tr>\n",
       "  </thead>\n",
       "  <tbody>\n",
       "    <tr>\n",
       "      <th>0</th>\n",
       "      <td>How many Nobel laureates has Oxford educated?</td>\n",
       "      <td>How many Nobel laureates has Oxford educated?</td>\n",
       "      <td>James Edward Meade,  (23 June 1907 – 22 Decemb...</td>\n",
       "    </tr>\n",
       "    <tr>\n",
       "      <th>1</th>\n",
       "      <td>When is Barack Obama born ?</td>\n",
       "      <td>When is Barack Obama born ?</td>\n",
       "      <td>Barack Hussein Obama Sr. (; 18 June 1936 – 24 ...</td>\n",
       "    </tr>\n",
       "  </tbody>\n",
       "</table>\n",
       "</div>"
      ],
      "text/plain": [
       "                                        question  \\\n",
       "0  How many Nobel laureates has Oxford educated?   \n",
       "1                    When is Barack Obama born ?   \n",
       "\n",
       "                                          search  \\\n",
       "0  How many Nobel laureates has Oxford educated?   \n",
       "1                    When is Barack Obama born ?   \n",
       "\n",
       "                                        wiki_context  \n",
       "0  James Edward Meade,  (23 June 1907 – 22 Decemb...  \n",
       "1  Barack Hussein Obama Sr. (; 18 June 1936 – 24 ...  "
      ]
     },
     "execution_count": 75,
     "metadata": {},
     "output_type": "execute_result"
    }
   ],
   "source": [
    "getWikiContext(df2)"
   ]
  },
  {
   "cell_type": "code",
   "execution_count": 76,
   "metadata": {},
   "outputs": [
    {
     "data": {
      "text/plain": [
       "'The family of Barack Obama, the 44th President of the United States, and his wife Michelle Obama is made up of people of Kenyan (Luo), African-American, and Old Stock American (including originally English, Scots-Irish, Welsh, German, and Swiss) ancestry. Their immediate family was the First Family of the United States from 2009 to 2017. The Obamas are the first First Family of African-American descent.\\n\\n\\n== Immediate family ==\\n\\n\\n=== Michelle Obama ===\\n\\nMichelle LaVaughn Robinson Obama (born January 17, 1964) is an American lawyer, university administrator, and writer who served as the First Lady of the United States from 2009 to 2017. She is Barack Obama\\'s wife, and was the first African-American First Lady. Raised on the South Side of Chicago, Michelle Obama is a graduate of Princeton University and Harvard Law School, and spent her early legal career working at the law firm Sidley Austin, where she met her husband. She subsequently worked as the Associate Dean of Student Services at the University of Chicago and the Vice President for Community and External Affairs of the University of Chicago Medical Center. Barack and Michelle married in 1992.Michelle campaigned for her husband\\'s presidential bid throughout 2007 and 2008, delivering a keynote address at the 2008 Democratic National Convention. She returned to speak at the 2012 Democratic National Convention, and again during the 2016 Democratic National Convention in Philadelphia, where she delivered a speech in support of the Democratic presidential nominee, and fellow First Lady, Hillary Clinton.As First Lady, Michelle Obama sought to become a role model for women, an advocate for poverty awareness, education, nutrition, physical activity and healthy eating, and became a fashion icon.\\n\\n\\n=== Malia Obama and Sasha Obama ===\\nBarack and Michelle Obama have two daughters: Malia Ann (), born July 4, 1998, and Natasha (known as Sasha ), born on June 10, 2001. They were both delivered at University of Chicago Medical Center by their parents\\' friend and physician Anita Blanchard. Sasha is the youngest child to reside in the White House since John F. Kennedy Jr. arrived as an infant in 1961. In 2014 Malia and Sasha were named two of \"The 25 Most Influential Teens of 2014\" by Time magazine.\\n\\nBefore his inauguration, President Obama published an open letter to his daughters in Parade magazine, describing what he wants for them and every child in America: \"to grow up in a world with no limits on your dreams and no achievements beyond your reach, and to grow into compassionate, committed women who will help build that world.\"\\nWhile living in Chicago, the Obamas kept busy schedules, as the Associated Press reported: \"soccer, dance and drama for Malia, gymnastics and tap for Sasha, piano and tennis for both.\" In July 2008, the family gave an interview to the television series Access Hollywood. Obama later said they regretted allowing the children to be included. Malia graduated from and Sasha attends the private Sidwell Friends School in Washington, D.C., the same school that Chelsea Clinton, Tricia Nixon Cox, and Archibald Roosevelt attended and that the grandchildren of Vice President Joe Biden attend. The Obama girls began classes there on January 5, 2009; Malia graduated in 2016. Before the family moved to Washington in 2009, both girls attended the private University of Chicago Laboratory School.In his victory speech on the night of his election, President Obama repeated his promise to Sasha and Malia to get a puppy to take with them to the White House. The selection was slow because Malia is allergic to animal dander; the president subsequently said that the choice had been narrowed down to either a labradoodle or a Portuguese Water Dog, and that they hoped to find a shelter animal. On April 12, 2009, it was reported that the Obamas had adopted a six-month-old Portuguese Water Dog given to them as a gift by Senator Ted Kennedy; Malia and Sasha named the dog Bo. The White House referred to Bo as the First Dog. In 2013, the family adopted a second Portuguese Water Dog named Sunny.As a high school student, Malia Obama spent a portion of the summer in 2014 and 2015 working in television studios in New York and Los Angeles. She spent the summer of 2016 working as an intern in the U.S. Embassy in Madrid, Spain.During the week June 26, 2016, to July 3, 2016, Michelle, Sasha, Malia and Michelle\\'s mother Marian Robinson went to Liberia to promote the Let Girls Learn Peace initiative, for which the United States has funded $27 million in aid for expansion. They met with Ellen Johnson Sirleaf, the first elected female head of state in Africa. Then they moved to Morocco, where they had a panel with Freida Pinto and Meryl Streep moderated by CNN\\'s Isha Sesay in Marrakesh and delivered a substantive amount of money to aid 62 million girls lacking access to formal education. They arrived in Spain where Michelle delivered a message about the initiative. In August 2016, Sasha started working at Nancy\\'s, a seafood restaurant in Martha\\'s Vineyard, Massachusetts. In the fall of 2016, Malia went on an 83-day trip to Bolivia and Peru. In February 2017, Malia started an internship for Harvey Weinstein at The Weinstein Company film studio in New York City. In August 2017, Malia started attending Harvard University.\\n\\n\\n=== Marian Robinson ===\\n\\nMarian Robinson, Michelle Obama\\'s mother, resided in the White House during the Obama presidency.\\n\\n\\n== Maternal relations ==\\nBarack Obama was raised by his mother, Stanley Ann Dunham, called Ann, and maternal grandparents Madelyn and Stanley Dunham.He often referred to his family during his candidacy and term as President. Obama\\'s maternal heritage consists mostly of English ancestry, with smaller amounts of German, Scotch-Irish, Welsh, and Swiss ancestry. Research published in 2012 stated that Obama is likely descended from the African slave John Punch through his mother\\'s Bunch line, with generations of African Americans who gradually married \"white\" on the way to Kansas.\\n\\n\\n=== Ann Dunham (1942–1995) ===\\nObama\\'s mother was born Stanley Ann Dunham. She became an anthropologist, specializing in economic anthropology and rural development. She earned her PhD degree from the University of Hawaii at Mānoa and worked with the United States Agency for International Development, the Ford Foundation, and Women\\'s World Banking, to promote the use of microcredit in order to combat global poverty. The Ann Dunham Soetoro Endowment in the Anthropology Department at the University of Hawaiʻi at Mānoa and the Ann Dunham Soetoro Graduate Fellowships at the East–West Center (EWC) in Honolulu, Hawaii, are named in her honor. Obama has said that his mother was the dominant figure of his formative years. \"The values she taught me continue to be my touchstone when it comes to how I go about the world of politics.\"\\n\\n\\n=== Stanley Armour Dunham (1918–1992) ===\\nStanley Armour Dunham is the maternal grandfather of Barack Obama. He served as a sergeant in the U.S. Army during World War II, enlisting just after the attacks on Pearl Harbor. He and his wife Madelyn Dunham raised Obama in Honolulu, Hawaii. In addition to Obama, Stanley is related to six US presidents: James Madison, Harry S. Truman, Lyndon B. Johnson, Jimmy Carter, George H. W. Bush, and George W. Bush. He died in Honolulu, Hawaii, and is buried at the Punchbowl National Cemetery.\\n\\n\\n=== Madelyn Lee Payne Dunham (1922–2008) ===\\nMadelyn Dunham (née Madelyn Lee Payne) was Obama\\'s maternal grandmother who worked in banking and became vice president of a bank in Hawaii. Obama grew up with her and remembered that when he was a child, his grandmother \"read me the opening lines of the Declaration of Independence and told me about the men and women who marched for equality because they believed those words put to paper two centuries ago should mean something.\"\\n\\n\\n=== Charles Thomas Payne (1925–2014) ===\\n\\nCharles Thomas Payne is Madelyn Dunham\\'s younger brother and Obama\\'s great-uncle. He was born in 1925. Payne served during World War II in the U.S. Army 89th Infantry Division. Obama has often described Payne\\'s role in liberating the Ohrdruf forced labor camp. There was brief media attention when Obama mistakenly identified the camp as Auschwitz during the campaign. In 2009, Payne spoke about his war experience: Ohrdruf was in that string of towns going across, south of Gotha and Erfurt. Our division was the first one in there. When we arrived there were no German soldiers anywhere around that I knew about. There was no fighting against the Germans, no camp guards. The whole area was overrun by people from the camp dressed in the most pitiful rags, and most of them were in a bad state of starvation.\\nPayne appeared in the visitor\\'s gallery at the Democratic National Convention in Denver, Colorado, when his great-nephew was nominated for President. He was the assistant director of the University of Chicago\\'s Library.\\n\\n\\n=== Ralph Dunham (1916–2012) ===\\nRalph Dunham was Stanley Dunham\\'s older brother and Obama\\'s great-uncle, he served in the U.S. Army as an assignment and personnel officer during World War II. He landed at Normandy\\'s Omaha Easy Red Beach on D-Day plus four, and moved with troops in the fighting through France, Italy and Germany.\\n\\n\\n=== Eleanor Belle Dunham Berkebile (1932–2003) ===\\nEleanor Dunham, Obama\\'s great-aunt, was the younger sister of Stanley Armour Dunham and Ralph Dunham. Married to Ralph Lee Berkebile. She was the youngest daughter of Ralph Waldo Emerson Dunham Sr. and his first wife, Martha Mae Stonehouse. She retired from civil service as an executive secretary.\\n\\n\\n=== Margaret Arlene Payne (1927–2014) ===\\nMargaret Arlene Payne, Obama\\'s great-aunt, was the younger sister of Madelyn Dunham and Charles Payne. She was a professor of nutrition who taught at the University of Missouri, Kansas City, and at the University of North Carolina at Chapel Hill (1980–1990). She wrote numerous research articles and two books.\\n\\n\\n=== Leona McCurry (1897–1968) ===\\nObama\\'s family said that his maternal great-grandmother, Leona McCurry, was part Native American. She reportedly held that as a \"source of considerable shame\" and \"blanched whenever someone mentioned the subject and hoped to carry the secret to her grave.\" But her daughter Madelyn Dunham (Obama\\'s maternal grandmother) \"would turn her head in profile to show off her beaked nose, which along with a pair of jet-black eyes, was offered as proof of Cherokee blood.\" To date, no concrete evidence has surfaced of Cherokee heritage in the McCurry line.\\n\\n\\n=== Ruth Lucille Armour (1900–1926) ===\\nObama\\'s family said that his paternal great-grandmother, Ruth Dunham, died November 26, 1926, from ptomaine poisoning. Resided in Topeka, Kansas.\\n\\n\\n=== Fulmoth Kearney (c.\\u20091829–1878) ===\\nA maternal 3rd great-grandfather of Barack Obama, nicknamed \"Fully.\" Born circa 1829 in Moneygall, Ireland, he emigrated to Ohio via New York in 1850, making him the most recent immigrant on the maternal side of Barack Obama\\'s family tree. Fulmoth married Charlotte Holloway and raised a family which included three daughters (including Mary Ann.) She and two of her sisters married three Dunham brothers. Kearney and his wife are buried in Fairview Cemetery in Labette County, Kansas. Descendants placed a headstone there in 2014. Around the same time, a photo of him was discovered. Barack Obama visited Moneygall in 2011.\\n\\n\\n=== Lolo Soetoro (1936–1987) ===\\nLolo Soetoro, Javanese given name: Martodihardjo, was the second husband of Ann Dunham (married on March 15, 1965) and stepfather to Barack Obama. He is  Maya Soetoro-Ng\\'s father. After his divorce from Dunham, Soetoro married Erna Kustina. They had two children, Yusuf Aji Soetoro (b. 1981) and Rahayu Nurmaida Soetoro (b. 1984).\\n\\n\\n=== Maya Soetoro-Ng (b. 1970) ===\\nMaya Soetoro-Ng, Obama\\'s half-sister, was born in Jakarta, Indonesia. She has a half-brother and sister, Yusuf and Aya Soetoro, from her father\\'s second marriage. She is married to Canadian-American Konrad Ng, with whom she has two daughters, Suhaila and Savita. Maya Soetoro-Ng is a teacher in Hawaii.\\n\\n\\n=== Konrad Ng (b. 1974) ===\\nKonrad Ng is Barack Obama\\'s brother-in-law. He is of Overseas Chinese descent, and his parents are from Kudat and Sandakan, two small towns in Sabah, Malaysia. Ng and his younger brother, Perry, were born and raised in Burlington, Ontario Canada. Perry Ng works for the University of Ottawa. He married Maya Soetoro-Ng at the end of 2003 in Hawaii. They have two daughters, Suhaila and Savita. Konrad Ng is a U.S. citizen. He is an assistant professor at the University of Hawaii\\'s Academy of Creative Media. He studied philosophy at McGill University and cultural studies at the University of Victoria before getting his PhD degree from University of Hawaii at Manoa.Ng studies \"how minority and diaspora communities use cinema and digital media to engage in artistic and cultural representation and preservation, and community mobilization.\" From 2011 to 2016, he served as director of the Smithsonian Asian Pacific American Center.\\n\\n\\n=== Robert Wolfley (1835–1895) ===\\nRobert Wolfley, born in 1835, is one of Obama\\'s maternal third great-grandfathers. He served as a private in Company A, 145th Ohio Infantry during the American Civil War. He died July 17, 1895, and is buried in the Olathe Memorial Cemetery in Olathe, Kansas.\\n\\n\\n=== John Punch ===\\n\\nAccording to Ancestry.com\\'s research in 2012, using a combination of historical documents and yDNA analysis, genealogists found that John Punch, the first documented African slave in the American British colonies, has been documented as likely an eleventh great-grandfather of Obama through his mother, Ann Dunham, and her Bunch ancestors. With intermarriage, there were eventually both white and African-American lines of descent from Punch; some Bunch descendants were classified as white by the early 18th century. Other Bunch descendants were considered free people of color. Ralph Bunche, U.S. minister to the United Nations, is thought by historian Paul Heinegg to have likely been an African-American descendant of the Bunch family via South Carolina and Detroit, Michigan.\\n\\n\\n=== Jonathan Singletary Dunham (1640–1724) ===\\nJonathan Singletary Dunham, born in 1640 in the Massachusetts Bay Colony, was one of Obama\\'s maternal eighth great-grandfathers and is his earliest ancestor known to be born in North America.\\n\\n\\n== Paternal relations ==\\nObama\\'s family in Kenya are members of the Luo people, the nation\\'s second-largest ethnic group. Linguistically, Luo is one of the Nilotic languages.  The Obama family is concentrated in the western Kenyan province of Nyanza.\\n\\n\\n=== Hussein Onyango Obama (c. 1895–1979) ===\\nPaternal grandfather to Barack Obama, he was born Onyango Obama. (One source gives 1870–1975 as his dates of birth and death, possibly based on his tombstone in his home village. Barack Obama relates finding in 1988 a British document, based on a 1928 ordinance, recording his grandfather as 35 years old. The date of the document was estimated to be about 1930, which would mean that his grandfather had been born around 1895.) The Luo are given names related to the circumstances of their birth, and Onyango means \"born in the early morning.\"Onyango was the fifth son of his mother, Nyaoke, who was the first of the five wives of his father, Obama. Barack Obama relates how his step-grandmother Granny Sarah (Sarah Onyango Obama) describes his grandfather: \"Even from the time that he was a boy, your grandfather Onyango was strange. It is said of him that he had ants up his anus, because he could not sit still.\" As a young man, Onyango learned to speak, read and write in English, the language of British colonial administration in Kenya. Onyango worked as a mission cook and as a local herbalist. He joined the King\\'s African Rifles during World War I. In 1949, Onyango spent at least six months in Kamiti Prison. He was probably tried in a magistrates\\' court on charges of sedition or being a member of a banned organization. Records do not survive; all such documentation was routinely destroyed after six years by the British colonial administration. He was tortured to extract information about the growing insurgency seeking the independence of Kenya. In his memoir, Obama recounted family descriptions of his grandfather\\'s shocking physical state when released from prison:\\n\"When he returned to Alego he was very thin and dirty. He had difficulty walking, and his head was full of lice.\" For some time, he was too traumatized to speak about his experiences. His wife told his grandson Obama: \"From that day on, I saw that he was now an old man.\" Onyango was permanently scarred, suffering pain and requiring assistance in moving until his death. Although previously he had worked closely with British colonists, Onyango became bitterly anti-British after his abuse. According to his third wife, Sarah, Onyango had converted from tribal religion to Catholicism early in life. When Seventh-day Adventist missionaries visited the Kendu Bay area many people were baptized into the church, including Onyango. When he later converted to Islam, he took the first name Hussein. She said that he passed on the name of Hussein to his children, but not the religion. Onyango is sometimes referred to as Mzee Hussein Onyango Obama. The word mzee (meaning \"elder\") is a Kenyan honorific. And to this day the Obama family in Kenya is divided between Seventh-day Adventists and Muslims.\\n\\n\\n=== Habiba Akumu Obama (c. 1918–2006) ===\\nAlso known as Akumu Nyanjoga and Sje. She was Barack Obama\\'s paternal grandmother, and the second wife of Hussein Onyango Obama. She had three children with Onyango: daughters Sarah and Auma, and son Barack (Barack Obama\\'s father). Her father was named Njango or Njoga, and she was born and raised in the Western Kenyan village of Karabondi.In his memoir Dreams from My Father, Obama wrote that Akumu was miserable in her marriage and abandoned Onyango Obama and her children with him. She subsequently married again and moved to Tanganyika, now Tanzania. Her name Akumu means \"mysterious birth.\" Her mother conceived her after having given birth to another child and before resuming her menses. Akumu took the name Habiba upon her conversion to Islam in her second marriage, to Salmin Orinda, a Muslim from Wagwe, near Homa Hills, South Nyanza. A photograph of her holding her son, Barack Sr., on her lap is on the cover of her grandson\\'s memoir. (See image at right margin.)\\n\\n\\n=== Sarah Obama (b. 1933) ===\\nAunt of U.S. President Barack Obama and elder sister of his father, daughter of Hussein Onyango and his second wife, Habiba Akumu Obama. (She should not be confused with her stepmother Sarah Onyango Obama, also often called just Sarah Obama, the third wife of Onyango.)\\n\\n\\n=== Barack Obama Sr. (1936–1982) ===\\nBarack Obama Sr., Barack Obama\\'s father, was the son of Onyango and his second wife Habiba Akumu Obama. Educated in the US at the University of Hawai\\'i and Harvard University, he returned to Kenya, where he became an economist with the government. He served in the ministries of transportation and finance. Obama Sr. was married a total of three times, and he fathered a daughter and at least four sons in addition to Barack II.\\n\\n\\n=== Hawa Auma Hussein ===\\nAunt of U.S. President Barack Obama and younger sister of his father, born to Hussein Onyango and second wife Habiba Akumu Obama. She is the sole surviving full sibling of Barack Obama Sr.\\n\\n\\n=== Sarah Onyango Obama (b. 1922) ===\\nSarah Onyango Obama was the third wife of Obama\\'s paternal grandfather. She is known for short as Sarah Obama; she is sometimes referred to as Sarah Ogwel, Sarah Hussein Obama, or Sarah Anyango Obama. She lives in Nyang\\'oma Kogelo village, 30 miles west of western Kenya\\'s main town, Kisumu, on the edge of Lake Victoria. (She should not be confused with her stepdaughter of the same name, Sarah Obama, a daughter of Onyango\\'s second wife Akumu.)Although she is not a blood relation, Barack Obama calls her \"Granny Sarah\". Sarah, who speaks Luo and only a few words of English, communicates with President Obama through an interpreter.\\nOn July 4, 2008, Sarah Obama attended the United States Independence Day celebrations in Nairobi, hosted by Michael Ranneberger, the US ambassador in Kenya.During the 2008 U.S. presidential campaign, she protested attempts to portray Obama as a foreigner to the United States or as a Muslim, saying that while Obama\\'s grandfather had been a Muslim, \"In the world of today, children have different religions from their parents.\" Sarah Obama is \"a strong believer of the Islamic faith\", in her words.In November 2014, Sarah Obama received an award from the United Nations for the work of an education foundation that she heads, as a part of Women’s Entrepreneurship Day.\\n\\n\\n=== Kezia Obama ===\\nKezia \"Grace\" Obama (also known as Kezia Aoko) was born c. 1940.) She is Barack Obama Sr.\\'s first wife; she married him in Kenya in 1954 before he studied abroad in the United States. They had at least two children together: Abongo [Roy] and Auma; and she has also claimed Bernard and Abo Obama as sons by Barack Sr.\\nShe lives in Bracknell, Berkshire, England. On March 22, 2009, Kezia Obama made a guest appearance on the British television show Chris Moyles\\' Quiz Night. Her sister, Jane, is the \\'Auntie Jane\\' mentioned at the very start of Dreams from My Father; she telephoned Obama in the US in 1982 to tell him that his father had been killed in a car accident in Kenya.\\n\\n\\n=== Malik Obama ===\\nBarack Obama\\'s half-brother, also known as Abongo or Roy, was born c. March 1958, the son of Barack Obama Sr. and his first wife, Kezia. Malik Obama was born and raised in Nairobi, Kenya. He earned a degree in accounting from the University of Nairobi. The half brothers met for the first time in 1985 when Barack flew from Chicago to Washington, D.C., to visit Malik. Malik and his half-brother Barack were best men at each other\\'s weddings. Barack Obama brought his wife Michelle to Kenya three years later, and they met with Malik again while meeting many other relatives for the first time.He lives in the Obamas\\' ancestral home, Nyang\\'oma Kogelo, a village of several hundred people, preferring its slow pace to that of the city. He runs a small electronics shop a half-hour\\'s drive outside of town. Although much of the Obama family has dispersed throughout Kenya and overseas, most, including Malik Obama, still consider their rural village on the shores of Lake Victoria to be their true home. They feel that those who have left the village have become culturally \"lost\". A frequent visitor to the United States, and a consultant in Washington, D.C., for several months each year, Malik has dual citizenship in Kenya and the United States.During his brother\\'s 2008 presidential campaign, Malik Obama was a spokesman for the extended Obama family in Kenya. He dealt with safety and privacy concerns arising from the increased attention from the press.\\nMalik ran for governor of the Kenyan county of Siaya in 2013. His campaign slogan was \"Obama here, Obama there\" in reference to his half-brother who was serving his second term as the President of the United States. Malik garnered a meager 2,792 votes, about 140,000 votes behind the eventual winner. Prior to the 2016 United States presidential election, he stated that he supported Donald Trump, the candidate for the Republican Party. He attended the third presidential debate as one of Trump\\'s guests.\\n\\n\\n=== Auma Obama ===\\n\\nBarack Obama\\'s half-sister, born c. 1960, to Kezia, his father\\'s first wife. As of July 2008, she was a development worker in Kenya. She studied German at the University of Heidelberg from 1981 to 1987. After her graduation at Heidelberg, she went on for graduate studies at the University of Bayreuth, earning a PhD degree in 1996. Her dissertation was on the conception of labor in Germany and its literary reflections.Auma Obama has lived in London. In 1996 she married an Englishman, Ian Manners, although they have since divorced. They have a daughter named Akinyi (b. 1997). In 2011, Auma Obama was interviewed for Turk Pipkin\\'s documentary Building Hope and was the subject of a German documentary film The Education of Auma Obama.\\nIn 2017 Auma Obama was honoured with the fourth International TÜV Rheinland Global Compact Award in Cologne. At the award ceremony, she received the bronze sculpture ‘Der Griff nach den Sternen’ (Reaching for the stars), solely made for the award, by artist Hannes Helmke.\\n\\n\\n=== Abo Obama ===\\nSaid to be Barack Obama\\'s half-brother, he is also known as Samson Obama, and was born in 1968 to Kezia Obama. In Dreams from My Father, Obama wrote that his Obama relatives doubt that Abo and Bernard are the biological sons of Barack Obama, Sr. Abo manages a mobile phone shop in Kenya.\\n\\n\\n=== Ruth (Baker) Ndesandjo ===\\nBorn Ruth Beatrice Baker in the United States around 1937, the daughter of Maurice Joseph Baker and Ida Baker of Newton, Massachusetts, who are of Lithuanian Jewish descent. Ruth Baker was a 1954 graduate of Brookline High School in Brookline, Massachusetts, and a 1958 graduate of Simmons College in Boston with a degree in business. She was a suburban elementary school teacher when she met and began dating Barack Sr. in Cambridge in June 1964, a month before his return to Kenya in August 1964. She followed Obama Sr. back to Kenya five weeks later, and married him in Kenya in a civil ceremony on December 24, 1964. She later became a private kindergarten director in Kenya. She had two sons with Barack Obama Sr.: Mark and David. She and Barack Sr. separated in 1971 and divorced about 1973. Since she remarried when her sons were young, they took their stepfather\\'s surname, Ndesandjo, as their own. Her third son, Joseph Ndesandjo, was born c. 1980 in her second marriage.\\n\\n\\n=== Mark Okoth Obama Ndesandjo ===\\nBarack Obama\\'s half-brother, born c. 1965, son of Barack Obama Sr. and his third wife Ruth Baker.  Mark Ndesandjo runs an Internet company called WorldNexus that advises Chinese corporations how best to reach international customers. Mark was educated in the US, graduating from Brown University; he studied physics at Stanford University, and received an MBA degree from Emory University.\\nHe has lived in Shenzhen, China, since 2002. Through his mother, he is Jewish. He is married to Liu Xuehua (also spelled Liu Zue Hua in some reports), a Chinese woman from Henan Province. He is an accomplished pianist and has performed in concert.In 2009, Mark Ndesandjo published a semi-autobiographical novel, Nairobi to Shenzhen: A Novel of Love in the East. He published a memoir in 2013, entitled, Cultures: My Odyssey of Self-Discovery. In it, he accused their father Barack Sr. of abuse.\\n\\n\\n=== David Ndesandjo (c.\\u20091967–c.\\u20091987) ===\\nBarack Obama\\'s half-brother (also known as David Opiyo Obama), son of Barack Obama Sr. and his third wife, Ruth Baker, an American. He died in a motorcycle accident several years after his father\\'s death in a car accident.\\n\\n\\n=== George Hussein Onyango Obama ===\\nYoungest half-brother of Barack Obama, born c. 1982, son of Barack Obama Sr. and Jael Otieno. (She has since moved to Atlanta, Georgia as a full-time resident.) George was six months old when his father died in an automobile accident, after which he was raised in Nairobi by his mother and a French stepfather. His mother took him to South Korea for two years while she was working there. Returning to Kenya, George Obama \"slept rough for several years,\" until his aunt gave him a six-by-eight foot corrugated metal shack in the Nairobi slum of Huruma Flats.As of August 2008, George Obama was studying to become a mechanic. He received little attention until featured in an article in the Italian-language edition of Vanity Fair in August 2008 during the US presidential campaign. This portrayed him as living in poverty, shame, and obscurity. The article quoted George Obama as saying that he lived \"on less than a dollar a month\" and said that he \"does not mention his famous half-brother in conversation\" out of shame at his own poverty. In later interviews, George contradicted this account. In an interview with The Times, he \"said that he was furious at subsequent reports that he had been abandoned by the Obama family and that he was filled with shame about living in a slum.\"He told The Times, \"Life in Huruma is good.\" George Obama said that he expects no favors, that he was supported by relatives, and that reports he lived on a dollar a month were \"all lies by people who don\\'t want my brother to win.\" He told The Telegraph that he was inspired by his half-brother. According to Time, George \"has repeatedly denied ... that he feels abandoned by Obama.\" CNN quoted him as saying, \"I was brought up well. I live well even now. The magazines, they have exaggerated everything – I think I kind of like it here. There are some challenges, but maybe it is just like where you come from, there are the same challenges.\" George Obama and the British journalist Damien Lewis published George\\'s story in a 2011 book called Homeland.  George also appeared in the 2012 film, 2016: Obama\\'s America, an anti-Obama documentary.\\n\\n\\n=== Omar Okech Obama ===\\nAt times using a variation of the name of his father, Onyango Obama, Omar Okech Obama is a half-uncle of Barack Obama. Born on June 3, 1944, in Nyang\\'oma Kogelo, he is the eldest son of Onyango and his third wife, Sarah Obama. He moved to the United States in October 1963 when he was 17 years old as part of Kenya president Tom Mboya\\'s Airlift Africa project, to send promising Kenyan students to the US for education, particularly undergraduate and graduate school. Once he arrived in the country, his half-brother, Barack Obama Sr., found him a place at a boys\\' school then known as Browne & Nichols, in Cambridge, Massachusetts. He later dropped out of school and changed his name to O. Onyango Obama. He has operated a liquor store in Framingham, where he resided as of March 2011.  Barack Obama lived with Onyango in the 1980s while a student at Harvard Law School in Cambridge.Omar Okech Obama was subject to a deportation order in 1989. After an unsuccessful appeal, he was given a new deportation order in 1992. He was arrested on August 24, 2011, for driving under the influence, or DUI, and was held in jail until September 9, 2011, on a federal immigration warrant.  The Boston Herald reported in August 2011 that Obama had had a valid Social Security card \"for at least 19 years.\"  On November 30, 2012, the Board of Immigration Appeals remanded the immigration case to the Executive Office for Immigration Review for reconsideration of the original order of deportation, which was issued in 1986 and re-issued in 1992.An immigration judge ruled on January 30, 2013, that Onyango Obama would receive a deportation hearing. Onyango\\'s attorneys said that his defense at the December 3, 2013, deportation hearing would be a reliance on the Immigration Reform and Control Act of 1986, because Onyango had resided in the U.S. since before January 1, 1972, the cutoff date of the 1986 amnesty.  At the hearing, Immigration Judge Leonard I. Shapiro ruled that Onyango was eligible for permanent residence and would receive a green card.\\n\\n\\n=== Zeituni Onyango (1952–2014) ===\\nZeituni Onyango, half-aunt of Barack Obama, was born May 29, 1952, in Kenya, Onyango is referred to as \"Aunti Zeituni\" in Obama\\'s memoir Dreams from My Father. She entered the US in 2000 on a temporary visa with her son who was going to school; she applied in 2002 for political asylum due to unrest in Kenya and ethnic conflict. This was denied in 2004, but she remained in the country illegally. Her presence was leaked to the media during Barack Obama\\'s 2008 presidential campaign. She was granted asylum in 2010. She died on April 7, 2014, from complications caused by cancer and respiratory problems.\\n\\n\\n=== Yusuf Obama ===\\nHalf-uncle of Barack Obama, born c. 1950s in Nyang\\'oma Kogelo; son of Onyango and his third wife Sarah Obama.\\n\\n\\n=== Sayid Obama ===\\nHalf-uncle of Barack Obama, born c. 1950s in Nyang\\'oma Kogelo; son of Onyango and his third wife Sarah Obama.\\n\\n\\n== Michelle Obama\\'s extended family ==\\n\\nBarack Obama has called his wife Michelle Obama \"the most quintessentially American woman I know.\" Her family is of African-American heritage, descendants of Africans and Europeans of the colonial era and antebellum eras. Michelle Obama\\'s family history traces from colonists and slavery in the South to Reconstruction to the Great Migration to northern cities, in her family\\'s case, Cleveland and Chicago. Each of her four grandparents was multiracial. Some of Michelle\\'s relatives still reside in South Carolina. Extended family from her mother\\'s Shields ancestors also reside in Georgia and throughout the South.\\n\\n\\n=== Jim Robinson ===\\nMichelle\\'s earliest known relative on her father\\'s side is her great-great grandfather Jim Robinson, born in the 1850s, who was an American slave on the Friendfield Plantation in Georgetown, South Carolina in the Low Country, where African Americans developed as the Gullah people and culture. The family believes that after the Civil War, he worked as a Friendfield sharecropper for the rest of his life. He is said to have been buried there in an unmarked grave.Jim married twice, first to a woman named Louiser, with whom he had two sons, Gabriel and Fraser, Michelle Obama\\'s great-grandfather. A daughter was born to the family, but her name has not been discovered, and she is believed to have died as a child. His second marriage to Rose Ella Cohen produced six more children. Fraser had an arm amputated as a result of a boyhood injury. He worked as a shoemaker, a newspaper salesman, and in a lumber mill. Carrie Nelson, Gabriel Robinson\\'s daughter, is the keeper of family lore and the oldest living Robinson at 80 years old in 2008.At least three of Michelle Obama\\'s great-uncles served in the military of the United States. One aunt moved to Princeton, New Jersey, where she worked as a maid. She cooked Southern-style meals for Michelle and her brother Craig, when they were students at Princeton University.\\n\\n\\n=== Melvinia Shields ===\\nThe earliest known relative on her mother\\'s side is her great-great-great-grandmother, Melvinia Shields (1844-1938), who was held as a slave on a farm in Clayton County, North Georgia. Her master was Henry Walls Shields, who had a 200-acre farm near Rex. He would have worked along with his slaves. Melvinia became pregnant at about age 15 and had a biracial son, Dolphus T. Shields, born into slavery about 1860. Melvinia did not talk to relatives about his father. Based on DNA and other evidence, in 2012 researchers said the father was likely 20-year-old Charles Marion Shields, son of Melvinia\\'s master. After the Civil War, Dolphus Shields moved to Birmingham, Alabama. Charles later became a teacher and married a white woman. Michelle Obama\\'s extended family has said that people didn\\'t talk about slavery time while they were growing up. Michelle Obama\\'s distant ancestry also includes Irish and other European roots.On June 26, 2012, a monument to Shields was erected in Rex, with an inscription summarizing her life and \"a five-generation journey that began in oppression\" resulting in her descendant becoming First Lady of the United States. A year later, the monument was vandalized and knocked from its base, but was quickly replaced.\\n\\n\\n=== Marian Lois Robinson ===\\nMarian Lois Robinson (born Marian Lois Shields, July 30, 1937), is descended from Dolphus Shields and his wife. She is now widowed, but had married Michelle\\'s father, Fraser Robinson, on October 27, 1960. Robinson was formerly a secretary at Spiegel catalog and a bank. While Michelle and Barack Obama were campaigning in 2008, Robinson tended the Obamas\\' young children. She continued to help care for them while living in the White House as part of the First Family; she was the first live-in grandmother since Elivera M. Doud during the Eisenhower administration. Some media outlets dubbed Robinson as the \"First Granny\". Marian took Sasha and Malia to school daily.\\n\\n\\n=== Fraser C. Robinson III ===\\nMichelle Obama\\'s father, born August 1, 1935, died March 6, 1991, married Michelle\\'s mother, Marian Shields, on October 27, 1960. Robinson was a pump worker at the City of Chicago water plant.\\n\\n\\n=== Craig Robinson ===\\nCraig Robinson, Michelle Obama\\'s brother, was born in 1962. From 2008 until 2014, he served as head coach of men\\'s basketball at Oregon State University.\\n\\n\\n=== Fraser Robinson Jr. ===\\nMichelle Obama\\'s paternal grandfather was born on August 24, 1912, in Georgetown, South Carolina, and died on November 9, 1996, aged 84. He was a good student and orator but moved from South Carolina to Chicago during the Great Migration to find better work and living conditions than in the South, where Jim Crow had been imposed and blacks were disfranchised. He became a worker for the United States Postal Service. He married LaVaughn Johnson. When he retired, they moved back to South Carolina.\\n\\n\\n=== LaVaughn Dolores Johnson ===\\nMichelle Obama\\'s paternal grandmother (February 6, 1915 – September 17, 2002) and wife of Fraser Robinson Jr. She was born in Chicago, Illinois, to James Preston Johnson (1880–1920?) and Phoebe (1879–1920?).\\n\\n\\n=== Capers Funnye ===\\nCapers C. Funnye Jr. is Michelle Obama\\'s first cousin once removed: his mother, Verdelle Robinson Funnye (born Verdelle Robinson; August 22, 1930 – April 16, 2000), was a sister of Michelle Obama\\'s paternal grandfather, Fraser Robinson Jr. He is 12 years older, and Funnye and Obama grew to know each other as adults in Chicago, where both were involved in community organizing, along with Barack Obama. He is one of America\\'s most prominent African-American rabbis, known for acting as a bridge between mainstream Jewry and African American Jews. He converted to Judaism after 1970, during years of activism when he regarded Christianity as having been imposed on slaves.\\n\\n\\n== Index ==\\nKey:\\nUnderscored: \\u2009Now or once a member of Barack Obama\\'s household.\\nPersonal name bolded: \\u2009Living\\nNote: Every link in this index is to entries in this article\\n\\n\\n=== By last name ===\\n\\n\\n=== By first name ===\\n\\n\\n== See also ==\\n\\nNew England Historic Genealogical Society\\nGary Boyd Roberts\\nList of African-American firsts\\n\\n\\n== References ==\\n\\n\\n== External links ==\\n\"The Mystery of Michelle Obama\\'s Roots\" (Real Clear Politics)\\n\"Fashionable first daughters, Malia and Sasha\" (New York Daily News news photos)\\nBarack Obama\\'s Family Tree – Photo Essays – TIME\\n\"Though Obama Had to Leave to Find Himself, It Is Hawaii That Made His Rise Possible,\" by David Maraniss\\nBarack Obama\\'s Branch-y Family Tree by Jake Tapper\\n\"Obama Family Tree\" series, by Scott Fornek\\n\"Six Degrees of Barack Obama\"\\n\"Notes on the Ancestry of Senator Barack Hussein Obama Jr.,\" by Gary Boyd Roberts\\n\"Obama, Clinton and McCain have some famous relations,\" by The Associated Press\\n\"Tracking Michelle Obama\\'s Slave Roots,\" by Joe Johns and Justine Redman\\nSatirical Onion article about Obama son misinterpreted as fact\\n\"Malia Obama collected news and commentary\". The New York Times.\\n\"Sasha Obama collected news and commentary\". The New York Times.\\n\"President Barack Obama\\'s Roots\" by Megan Smolenyak\\n\"Michelle Obama\\'s Roots\" by Megan Smolenyak\\n\"Obama\\'s Irish family links by RTÉ'"
      ]
     },
     "execution_count": 76,
     "metadata": {},
     "output_type": "execute_result"
    }
   ],
   "source": [
    "predicted['wiki_context'][1]"
   ]
  },
  {
   "cell_type": "markdown",
   "metadata": {},
   "source": [
    "## Create dictionary of sentence embeddings for faster computation"
   ]
  },
  {
   "cell_type": "code",
   "execution_count": 77,
   "metadata": {
    "collapsed": true
   },
   "outputs": [],
   "source": [
    "# number of paragraphs\n",
    "paras = list(df2[\"wiki_context\"].drop_duplicates().reset_index(drop= True))"
   ]
  },
  {
   "cell_type": "code",
   "execution_count": 78,
   "metadata": {},
   "outputs": [],
   "source": [
    "paras = ['None' if v is None else v for v in paras]"
   ]
  },
  {
   "cell_type": "code",
   "execution_count": 79,
   "metadata": {},
   "outputs": [
    {
     "data": {
      "text/plain": [
       "2"
      ]
     },
     "execution_count": 79,
     "metadata": {},
     "output_type": "execute_result"
    }
   ],
   "source": [
    "len(paras)"
   ]
  },
  {
   "cell_type": "code",
   "execution_count": 80,
   "metadata": {
    "collapsed": true
   },
   "outputs": [],
   "source": [
    "# use blob to separate sentence\n",
    "blob = TextBlob(\" \".join(paras))\n",
    "sentences = [item.raw for item in blob.sentences]"
   ]
  },
  {
   "cell_type": "code",
   "execution_count": 81,
   "metadata": {},
   "outputs": [
    {
     "data": {
      "text/plain": [
       "192"
      ]
     },
     "execution_count": 81,
     "metadata": {},
     "output_type": "execute_result"
    }
   ],
   "source": [
    "len(sentences)"
   ]
  },
  {
   "cell_type": "code",
   "execution_count": 82,
   "metadata": {
    "collapsed": true
   },
   "outputs": [],
   "source": [
    "# use infersent to encode sentence\n",
    "infersent = torch.load('InferSent/encoder/infersent.allnli.pickle', map_location=lambda storage, loc: storage)\n",
    "infersent.set_glove_path(\"InferSent/dataset/GloVe/glove.840B.300d.txt\")"
   ]
  },
  {
   "cell_type": "code",
   "execution_count": 83,
   "metadata": {},
   "outputs": [
    {
     "name": "stdout",
     "output_type": "stream",
     "text": [
      "Found 1728(/1797) words with glove vectors\n",
      "Vocab size : 1728\n"
     ]
    }
   ],
   "source": [
    "infersent.build_vocab(sentences, tokenize=True)"
   ]
  },
  {
   "cell_type": "code",
   "execution_count": 84,
   "metadata": {
    "collapsed": true
   },
   "outputs": [
    {
     "name": "stdout",
     "output_type": "stream",
     "text": [
      "0\n",
      "100\n"
     ]
    }
   ],
   "source": [
    "# create sentence embedding\n",
    "dict_embeddings = {}\n",
    "for i in range(0,len(sentences)):\n",
    "    if (i % 100 == 0):\n",
    "        print(i)\n",
    "    dict_embeddings[sentences[i]] = infersent.encode([sentences[i]], tokenize=True)"
   ]
  },
  {
   "cell_type": "code",
   "execution_count": 85,
   "metadata": {
    "collapsed": true
   },
   "outputs": [],
   "source": [
    "questions = list(df2[\"question\"])"
   ]
  },
  {
   "cell_type": "code",
   "execution_count": 86,
   "metadata": {},
   "outputs": [
    {
     "data": {
      "text/plain": [
       "2"
      ]
     },
     "execution_count": 86,
     "metadata": {},
     "output_type": "execute_result"
    }
   ],
   "source": [
    "\n",
    "\n",
    "len(questions)\n"
   ]
  },
  {
   "cell_type": "code",
   "execution_count": 87,
   "metadata": {
    "collapsed": true
   },
   "outputs": [
    {
     "name": "stdout",
     "output_type": "stream",
     "text": [
      "0\n"
     ]
    }
   ],
   "source": [
    "# create question embedding\n",
    "for i in range(len(questions)):\n",
    "    if (i % 100 == 0):\n",
    "        print(i)\n",
    "    dict_embeddings[questions[i]] = infersent.encode([questions[i]], tokenize=True)"
   ]
  },
  {
   "cell_type": "code",
   "execution_count": 88,
   "metadata": {},
   "outputs": [
    {
     "name": "stdout",
     "output_type": "stream",
     "text": [
      "0\n",
      "key is James Edward Meade,  (23 June 1907 – 22 December 1995) was a British economist and winner of the 1977 Nobel Memorial Prize in Economic Sciences jointly with the Swedish economist Bertil Ohlin for their \"pathbreaking contribution to the theory of international trade and international capital movements.\"\n",
      "1\n",
      "key is Meade was born in Swanage, Dorset.\n",
      "2\n",
      "key is He was educated at Malvern College and attended Oriel College, Oxford in 1926 to read Greats, but switched to Philosophy, Politics and Economics and gained an outstanding first.\n",
      "3\n",
      "key is His interest in economics grew from an influential postgraduate year at Christ's College, Cambridge and Trinity College, Cambridge (1930–31), where he held frequent discussions with leading economists of the time including Dennis Robertson and John Maynard Keynes.\n",
      "4\n",
      "key is After working in the League of Nations and the Cabinet Office, he was the leading economist of the early years of Attlee's government, before taking professorships at LSE (1947–57) and Cambridge (1957–67).\n",
      "5\n",
      "key is Edgar Algernon Robert Gascoyne-Cecil, 1st Viscount Cecil of Chelwood,  (14 September 1864 – 24 November 1958), known as Lord Robert Cecil from 1868 to 1923, was a British lawyer, politician and diplomat.\n",
      "6\n",
      "key is He was one of the architects of the League of Nations and a defender of it, whose service to the organisation saw him awarded the Nobel Peace Prize in 1937.The University of Oxford is a collegiate research university in Oxford, England.\n",
      "7\n",
      "key is There is evidence of teaching as far back as 1096, making it the oldest university in the English-speaking world and the world's second-oldest university in continuous operation.\n",
      "8\n",
      "key is It grew rapidly from 1167 when Henry II banned English students from attending the University of Paris.\n",
      "9\n",
      "key is After disputes between students and Oxford townsfolk in 1209, some academics fled north-east to Cambridge where they established what became the University of Cambridge.\n",
      "10\n",
      "key is The two 'ancient universities' are frequently jointly referred to as 'Oxbridge'.\n",
      "11\n",
      "key is The history and influence of the University of Oxford has made it one of the most prestigious universities in the world.The university is made up of 38 constituent colleges, and a range of academic departments which are organised into four divisions.\n",
      "12\n",
      "key is All the colleges are self-governing institutions within the university, each controlling its own membership and with its own internal structure and activities.\n",
      "13\n",
      "key is It does not have a main campus, and its buildings and facilities are scattered throughout the city centre.\n",
      "14\n",
      "key is Undergraduate teaching at Oxford is organised around weekly tutorials at the colleges and halls, supported by classes, lectures, seminars, and laboratory work provided by university faculties and departments; some postgraduate teaching includes tutorials organised by faculties and departments.\n",
      "15\n",
      "key is It operates the world's oldest university museum, as well as the largest university press in the world and the largest academic library system nationwide.\n",
      "16\n",
      "key is The university is consistently cited as among the world's best.Oxford has educated many notable alumni, including 29 Nobel laureates, 27 prime ministers of the United Kingdom and many heads of state and government around the world.\n",
      "17\n",
      "key is As of 2017, 69 Nobel Prize winners, 3 Fields Medalists, and 6 Turing Award winners have studied, worked, or held visiting fellowships at the University of Oxford.\n",
      "18\n",
      "key is Its alumni have won 160 Olympic medals.\n",
      "19\n",
      "key is Oxford is the home of the Rhodes Scholarship, one of the world's oldest international scholarships.Amartya Kumar Sen,  (Bengali: [ˈɔmort:o ˈʃen]; born 3 November 1933) is an economist and philosopher, who since 1972 has taught and worked in India, the United Kingdom, and the United States.\n",
      "20\n",
      "key is Sen has made contributions to welfare economics, social choice theory, economic and social justice, economic theories of famines, and indices of the measure of well-being of citizens of developing countries.\n",
      "21\n",
      "key is He is the Thomas W. Lamont University Professor at Harvard University and member of faculty at Harvard Law School.\n",
      "22\n",
      "key is He is a Fellow and former Master of Trinity College, Cambridge and was awarded the Nobel Memorial Prize in Economic Sciences in 1998 and India's Bharat Ratna in 1999 for his work in welfare economics.\n",
      "23\n",
      "key is In 2017, Sen was awarded the Johan Skytte Prize in Political Science for most valuable contribution to Political Science.\n",
      "24\n",
      "key is In 2004, Sen was ranked number 14 in BBC's poll of the Greatest Bengali of all time.Malala Yousafzai (Malālah Yūsafzay: Urdu: ملالہ یوسفزئی‬‎; Pashto: ملاله یوسفزۍ‎ [məˈlaːlə jusəf ˈzəj]; born 12 July 1997) is a Pakistani activist for female education and the youngest Nobel Prize laureate.\n",
      "25\n",
      "key is She is known for human rights advocacy, especially the education of women and children in her native Swat Valley in Khyber Pakhtunkhwa, northwest Pakistan, where the local Taliban had at times banned girls from attending school.\n",
      "26\n",
      "key is Her advocacy has grown into an international movement, and according to Pakistani Prime Minister Shahid Khaqan Abbasi, she has become \"the most prominent citizen\" of the country.Yousafzai was born to a Pashtun family in Mingora, Khyber Pakhtunkhwa, Pakistan.\n",
      "27\n",
      "key is Her family came to run a chain of schools in the region.\n",
      "28\n",
      "key is Considering Muhammad Ali Jinnah and Benazir Bhutto as her role models, she was particularly inspired by her father's thoughts and humanitarian work.\n",
      "29\n",
      "key is In early 2009, when she was 11–12, she wrote a blog under a pseudonym for the BBC Urdu detailing her life during the Taliban occupation of Swat.\n",
      "30\n",
      "key is The following summer, journalist Adam B. Ellick made a New York Times documentary about her life as the Pakistani military intervened in the region.\n",
      "31\n",
      "key is She rose in prominence, giving interviews in print and on television, and she was nominated for the International Children's Peace Prize by activist Desmond Tutu.\n",
      "32\n",
      "key is On 9 October 2012, while on a bus in the Swat District, after taking an exam, Yousafzai and two other girls were shot by a Taliban gunman in an assassination attempt in retaliation for her activism; the gunman fled the scene.\n",
      "33\n",
      "key is Yousafzai was hit in the head with a bullet and remained unconscious and in critical condition at the Rawalpindi Institute of Cardiology, but her condition later improved enough for her to be transferred to the Queen Elizabeth Hospital in Birmingham, UK.\n",
      "34\n",
      "key is The attempt on her life sparked an international outpouring of support for Yousafzai.\n",
      "35\n",
      "key is Deutsche Welle reported in January 2013 that Yousafzai may have become \"the most famous teenager in the world\".\n",
      "36\n",
      "key is Weeks after the attempted murder, a group of fifty leading Muslim clerics in Pakistan issued a fatwā against those who tried to kill her.\n",
      "37\n",
      "key is The Taliban was internationally denounced by governments, human rights organizations and feminist groups.\n",
      "38\n",
      "key is Taliban officials responded to condemnation by further denouncing Yousafzai, indicating plans for a possible second assassination attempt which was justified as a religious obligation.\n",
      "39\n",
      "key is Their statements resulted in further international condemnation.Following her recovery, Yousafzai became a prominent activist for the right to education.\n",
      "40\n",
      "key is Based out of Birmingham, she founded the Malala Fund, a non-profit organisation, and in 2013 co-authored I am Malala, an international best seller.\n",
      "41\n",
      "key is In 2012, she was the recipient of Pakistan's first National Youth Peace Prize and the 2013 Sakharov Prize.\n",
      "42\n",
      "key is In 2014, she was the co-recipient of the 2014 Nobel Peace Prize, along with Kailash Satyarthi of India.\n",
      "43\n",
      "key is Aged 17 at the time, this made her the youngest-ever Nobel Prize laureate.\n",
      "44\n",
      "key is In 2015, Yousafzai was a subject of the Oscar-shortlisted documentary He Named Me Malala.\n",
      "45\n",
      "key is The 2013, 2014 and 2015 issues of Time magazine featured her as one of the most influential people globally.\n",
      "46\n",
      "key is In 2017, she was awarded honorary Canadian citizenship and became the youngest person to address the House of Commons of Canada.\n",
      "47\n",
      "key is Yousafzai attended Edgbaston High School from 2013 to 2017, and is currently studying for a bachelor's degree in Philosophy, Politics and Economics at Lady Margaret Hall, Oxford.King's College is a constituent college of the University of Cambridge in Cambridge, England.\n",
      "48\n",
      "key is Formally The King's College of Our Lady and Saint Nicholas in Cambridge, the college lies beside the River Cam and faces out onto King's Parade in the centre of the city.\n",
      "49\n",
      "key is King's was founded in 1441 by Henry VI, soon after he had founded its sister college in Eton.\n",
      "50\n",
      "key is However, the King's plans for the college were disrupted by the Wars of the Roses and resultant scarcity of funds, and his eventual deposition.\n",
      "51\n",
      "key is Little progress was made on the project until in 1508 Henry VII began to take an interest in the college, most likely as a political move to legitimise his new position.\n",
      "52\n",
      "key is The building of the college's chapel, begun in 1446, was finally finished in 1544 during the reign of Henry VIII.\n",
      "53\n",
      "key is King's College Chapel, Cambridge is regarded as one of the greatest examples of late Gothic English architecture.\n",
      "54\n",
      "key is It has the world's largest fan vault, and the chapel's stained-glass windows and wooden chancel screen are considered some of the finest from their era.\n",
      "55\n",
      "key is The building is seen as emblematic of Cambridge.\n",
      "56\n",
      "key is The chapel's choir, composed of male students at King's and choristers from the nearby King's College School, is one of the most accomplished and renowned in the world.\n",
      "57\n",
      "key is Every year on Christmas Eve the Festival of Nine Lessons and Carols (a service devised specifically for King's by college dean Eric Milner-White) is broadcast from the chapel to millions of listeners worldwide.Aung San Suu Kyi (; Burmese: အောင်ဆန်းစုကြည်; MLCTS: aung hcan: cu.\n",
      "58\n",
      "key is krany Burmese pronunciation: [àʊɴ sʰáɴ sṵ tɕì]; born 19 June 1945) is a Burmese politician, diplomat, author, and Nobel Peace Prize laureate (1991).\n",
      "59\n",
      "key is She is the leader of the National League for Democracy and the first and incumbent State Counsellor, a position akin to a prime minister.\n",
      "60\n",
      "key is She is also the first woman to serve as Minister for Foreign Affairs, for the President's Office, for Electric Power and Energy, and for Education.\n",
      "61\n",
      "key is From 2012 to 2016 she was an MP for Kawhmu Township to the House of Representatives.\n",
      "62\n",
      "key is The youngest daughter of Aung San, Father of the Nation of modern-day Myanmar, and Khin Kyi, Aung San Suu Kyi was born in Rangoon, British Burma.\n",
      "63\n",
      "key is After graduating from the University of Delhi in 1964 and the University of Oxford in 1968, she worked at the United Nations for three years.\n",
      "64\n",
      "key is She married Michael Aris in 1972, with whom she had two children.\n",
      "65\n",
      "key is Aung San Suu Kyi rose to prominence in the 1988 Uprisings, and became the General Secretary of the National League for Democracy (NLD), which she had newly formed with the help of several retired army officials who criticized the military junta.\n",
      "66\n",
      "key is In the 1990 elections, NLD won 81% of the seats in Parliament, but the results were nullified, as the military refused to hand over power, resulting in an international outcry.\n",
      "67\n",
      "key is She had, however, already been detained under house arrest before the elections.\n",
      "68\n",
      "key is She remained under house arrest for almost 15 of the 21 years from 1989 to 2010, becoming one of the world's most prominent political prisoners.\n",
      "69\n",
      "key is Her party boycotted the 2010 elections, resulting in a decisive victory for the military-backed Union Solidarity and Development Party.\n",
      "70\n",
      "key is Aung San Suu Kyi became a Pyithu Hluttaw MP while her party won 43 of the 45 vacant seats in the 2012 by-elections.\n",
      "71\n",
      "key is In the 2015 elections, her party won a landslide victory, taking 86% of the seats in the Assembly of the Union – well more than the 67 percent supermajority needed to ensure that its preferred candidates were elected President and Second Vice President in the Presidential Electoral College.\n",
      "72\n",
      "key is Although she was prohibited from becoming the President due to a clause in the constitution – her late husband and children are foreign citizens – she assumed the newly created role of State Counsellor, a role akin to a Prime Minister or a head of government.\n",
      "73\n",
      "key is Aung San Suu Kyi's honours include the Nobel Peace Prize, which she won in 1991.\n",
      "74\n",
      "key is Time Magazine named her one of the \"Children of Gandhi\" and his spiritual heir to non-violence.Since ascending to the office of State Counsellor, Aung San Suu Kyi has drawn criticism from many countries, organisations and figures over her inaction to the persecution of the Rohingya people in Rakhine State and refusal to accept that Myanmar's military has committed massacres.\n",
      "75\n",
      "key is Under her leadership, Myanmar has also drawn international criticism for prosecutions of journalists.The relationship between the level of religiosity and the level of education has been studied since the second half of the 20th century.\n",
      "76\n",
      "key is The parameters of the two components diverse: the \"level of religiosity\" remains a concept which is difficult to differentiate scientifically, while the \"level of education\" is easier to compile, such as official data on this topic, because data on education is publicly accessible in many countries.\n",
      "77\n",
      "key is Different studies show contrasted conclusions regarding any link between the two concepts, depending on whether \"religiosity\" is measured by religious practices (attendance at places of worship, for example) or specific religious beliefs (belief in miracles, for example), with notable differences between nations.\n",
      "78\n",
      "key is For example, an international study states that in some Western nations the intensity of beliefs decreases with education, but attendance and religious practice increases.\n",
      "79\n",
      "key is Other studies indicate that the religious have higher education than the non-religious.\n",
      "80\n",
      "key is Other studies find that the positive correlation with low or non religiosity and education has been reversed in the past few decades.In terms of university professors, one study concluded that in the US, the majority of professors, even at \"elite\" universities, were religious.Sir Angus Stewart Deaton   (born 19 October 1945) is a British American economist and author.\n",
      "81\n",
      "key is Deaton is currently a Senior Scholar and the Dwight D. Eisenhower Professor of Economics and International Affairs Emeritus at the Woodrow Wilson School of Public and International Affairs and the Economics Department at Princeton University.\n",
      "82\n",
      "key is His research focuses primarily on poverty, inequality, health, wellbeing, and economic development.In 2015, he was awarded the Nobel Memorial Prize in Economic Sciences for his analysis of consumption, poverty, and welfare.Seamus Justin Heaney  (; 13 April 1939 – 30 August 2013) was an Irish poet, playwright and translator.\n",
      "83\n",
      "key is He received the 1995 Nobel Prize in Literature.\n",
      "84\n",
      "key is Among his best-known works is Death of a Naturalist (1966), his first major published volume.\n",
      "85\n",
      "key is Heaney was born in the townland of Tamniaran between Castledawson and Toomebridge, Northern Ireland.\n",
      "86\n",
      "key is His family moved to nearby Bellaghy when he was a boy.\n",
      "87\n",
      "key is He became a lecturer at St. Joseph's College in Belfast in the early 1960s, after attending Queen's University and began to publish poetry.\n",
      "88\n",
      "key is He lived in Sandymount, Dublin, from 1976 until his death.\n",
      "89\n",
      "key is He also lived part-time in the United States from 1981 to 2006.\n",
      "90\n",
      "key is Heaney was recognised as one of the principal contributors to poetry during his lifetime.\n",
      "91\n",
      "key is Heaney was a professor at Harvard from 1981 to 1997, and its Poet in Residence from 1988 to 2006.\n",
      "92\n",
      "key is From 1989 to 1994, he was also the Professor of Poetry at Oxford.\n",
      "93\n",
      "key is In 1996, was made a Commandeur de l'Ordre des Arts et des Lettres and in 1998 was bestowed the title Saoi of the Aosdána.\n",
      "94\n",
      "key is Other awards that he received include the Geoffrey Faber Memorial Prize (1968), the E. M. Forster Award (1975), the PEN Translation Prize (1985), the Golden Wreath of Poetry (2001), the T. S. Eliot Prize (2006) and two Whitbread Prizes (1996 and 1999).\n",
      "95\n",
      "key is In 2011, he was awarded the Griffin Poetry Prize and in 2012, a Lifetime Recognition Award from the Griffin Trust.\n",
      "96\n",
      "key is His literary papers are held by the National Library of Ireland.\n",
      "97\n",
      "key is American poet Robert Lowell described him as \"the most important Irish poet since Yeats\", and many others, including the academic John Sutherland, have said that he was \"the greatest poet of our age\".\n",
      "98\n",
      "key is Robert Pinsky has stated that \"with his wonderful gift of eye and ear Heaney has the gift of the story-teller.\"\n",
      "99\n",
      "key is Upon his death in 2013, The Independent described him as \"probably the best-known poet in the world\".His body is buried at the Cemetery of St. Mary's Church, Bellaghy, Northern Ireland.\n",
      "100\n",
      "key is The headstone bears the epitaph \"Walk on air against your better judgement\", from one of his poems, \"The Gravel Walks\".\n",
      "101\n",
      "key is Barack Hussein Obama Sr. (; 18 June 1936 – 24 November 1982) was a Kenyan senior governmental economist and the father of Barack Obama, the 44th President of the United States.\n",
      "102\n",
      "key is He is a central figure of his son's memoir, Dreams from My Father (1995).\n",
      "103\n",
      "key is Obama married in 1954 and had two children with his first wife, Kezia.\n",
      "104\n",
      "key is He was selected for a special program to attend college in the United States and studied at the University of Hawaii.\n",
      "105\n",
      "key is There, Obama met Stanley Ann Dunham, whom he married in 1961, and with whom he had a son, Barack II.\n",
      "106\n",
      "key is She divorced him three years later.\n",
      "107\n",
      "key is The elder Obama later went to Harvard University for graduate school, where he earned an M.A.\n",
      "108\n",
      "key is in economics, and returned to Kenya in 1964.\n",
      "109\n",
      "key is He saw his son Barack once more, when he was about ten.\n",
      "110\n",
      "key is In late 1964, Obama Sr. married Ruth Beatrice Baker, a Jewish-American woman whom he had met in Massachusetts.\n",
      "111\n",
      "key is They had two sons together before separating in 1971 and divorcing in 1973.\n",
      "112\n",
      "key is Obama first worked for an oil company, before beginning work as an economist with the Kenyan Ministry of Transport.\n",
      "113\n",
      "key is He gained a promotion to senior economic analyst in the Ministry of Finance.\n",
      "114\n",
      "key is He was among a cadre of young Kenyan men who had been educated in the West in a program supported by Tom Mboya.\n",
      "115\n",
      "key is Obama Sr. had conflicts with Kenyan President Jomo Kenyatta, which adversely affected his career.\n",
      "116\n",
      "key is He was fired and blacklisted in Kenya, finding it nearly impossible to get a job.\n",
      "117\n",
      "key is Obama Sr. was involved in three serious car accidents during his final years; he died as a result of the last one in 1982.The family of Barack Obama, the 44th President of the United States, and his wife Michelle Obama is made up of people of Kenyan (Luo), African-American, and Old Stock American (including originally English, Scots-Irish, Welsh, German, and Swiss) ancestry.\n",
      "118\n",
      "key is Their immediate family was the First Family of the United States from 2009 to 2017.\n",
      "119\n",
      "key is The Obamas are the first First Family of African-American descent.During Barack Obama's campaign for president in 2008, throughout his presidency, and afterwards, a number of conspiracy theories falsely asserted Obama was ineligible to be President of the United States because he was not a natural-born citizen of the U.S. as required by Article Two of the Constitution.\n",
      "120\n",
      "key is Theories alleged that Obama's published birth certificate was a forgery—that his actual birthplace was not Hawaii but Kenya.\n",
      "121\n",
      "key is Other theories alleged that Obama became a citizen of Indonesia in childhood, thereby losing his U.S. citizenship.\n",
      "122\n",
      "key is Still others claimed that Obama was not a natural-born U.S. citizen because he was born a dual citizen (British and American).\n",
      "123\n",
      "key is A number of political commentators have characterized these various claims as a racist reaction to Obama's status as the first African-American president of the United States.These claims were promoted by fringe theorists (pejoratively referred to as \"birthers\"), some of whom sought court rulings either to declare Obama ineligible to take office, or granting access to various documents which they claimed would evidence such ineligibility; none of these efforts were successful.\n",
      "124\n",
      "key is Some political opponents, especially in the Republican Party, have expressed skepticism about Obama's citizenship or been unwilling to acknowledge it; some have proposed legislation which would require presidential candidates to provide proof of eligibility.Expressed belief in such theories has persisted despite Obama's pre-election release of his official Hawaiian birth certificate in 2008, confirmation by the Hawaii Department of Health based on the original documents, the April 2011 release of a certified copy of Obama's original Certificate of Live Birth (or long-form birth certificate), and contemporaneous birth announcements published in Hawaii newspapers.\n",
      "125\n",
      "key is Polls conducted in 2010 (before the April 2011 release) suggested that at least 25% of adult Americans said that they doubted Obama's U.S. birth, and subsequently a May 2011 Gallup poll found that the percentage had fallen to 13% of American adults (23% of Republicans) who continued to express such doubts.\n",
      "126\n",
      "key is This plummeting percentage of doubters has been attributed to President Obama's release of the long form in April 2011.Barack Hussein Obama II ( (listen); born August 4, 1961) is an American politician who served as the 44th President of the United States from 2009 to 2017.\n",
      "127\n",
      "key is A member of the Democratic Party, he was the first African American to be elected to the presidency and previously served as a United States Senator from Illinois (2005–2008).\n",
      "128\n",
      "key is Obama was born in 1961 in Honolulu, Hawaii, two years after the territory was admitted to the Union as the 50th state.\n",
      "129\n",
      "key is After graduating from Columbia University in 1983, he worked as a community organizer in Chicago.\n",
      "130\n",
      "key is In 1988, he enrolled in Harvard Law School, where he was the first black president of the Harvard Law Review.\n",
      "131\n",
      "key is After graduating, he became a civil rights attorney and an academic, teaching constitutional law at the University of Chicago Law School from 1992 to 2004.\n",
      "132\n",
      "key is He represented the 13th district for three terms in the Illinois Senate from 1997 to 2004, when he ran for the U.S. Senate.\n",
      "133\n",
      "key is He received national attention in 2004 with his March primary win, his well-received July Democratic National Convention keynote address, and his landslide November election to the Senate.\n",
      "134\n",
      "key is In 2008, he was nominated for president a year after his campaign began and after a close primary campaign against Hillary Clinton.\n",
      "135\n",
      "key is He was elected over Republican John McCain and was inaugurated on January 20, 2009.\n",
      "136\n",
      "key is Nine months later, he was named the 2009 Nobel Peace Prize laureate.\n",
      "137\n",
      "key is During his first two years in office, Obama signed many landmark bills into law.\n",
      "138\n",
      "key is The main reforms were the Patient Protection and Affordable Care Act (often referred to as \"Obamacare\", shortened as the \"Affordable Care Act\"), the Dodd–Frank Wall Street Reform and Consumer Protection Act, and the Don't Ask, Don't Tell Repeal Act of 2010.\n",
      "139\n",
      "key is The American Recovery and Reinvestment Act of 2009 and Tax Relief, Unemployment Insurance Reauthorization, and Job Creation Act of 2010 served as economic stimulus amidst the Great Recession.\n",
      "140\n",
      "key is After a lengthy debate over the national debt limit, he signed the Budget Control and the American Taxpayer Relief Acts.\n",
      "141\n",
      "key is In foreign policy, he increased U.S. troop levels in Afghanistan, reduced nuclear weapons with the United States–Russia New START treaty, and ended military involvement in the Iraq War.\n",
      "142\n",
      "key is He ordered military involvement in Libya in opposition to Muammar Gaddafi; Gaddafi was killed by NATO-assisted forces.\n",
      "143\n",
      "key is He also ordered the military operations that resulted in the deaths of Osama bin Laden and suspected Yemeni Al-Qaeda operative Anwar al-Awlaki.\n",
      "144\n",
      "key is After winning re-election by defeating Republican opponent Mitt Romney, Obama was sworn in for a second term in 2013.\n",
      "145\n",
      "key is During this term, he promoted inclusiveness for LGBT Americans.\n",
      "146\n",
      "key is His administration filed briefs that urged the Supreme Court to strike down same-sex marriage bans as unconstitutional (United States v. Windsor and Obergefell v. Hodges); same-sex marriage was fully legalized in 2015 after the Court ruled that a same-sex marriage ban was unconstitutional in Obergefell.\n",
      "147\n",
      "key is He advocated for gun control in response to the Sandy Hook Elementary School shooting, indicating support for a ban on assault weapons, and issued wide-ranging executive actions concerning climate change and immigration.\n",
      "148\n",
      "key is In foreign policy, he ordered military intervention in Iraq in response to gains made by ISIL after the 2011 withdrawal from Iraq, continued the process of ending U.S. combat operations in Afghanistan in 2016, promoted discussions that led to the 2015 Paris Agreement on global climate change, initiated sanctions against Russia following the invasion in Ukraine and again after Russian interference in the 2016 United States elections, brokered a nuclear deal with Iran, and normalized U.S. relations with Cuba.\n",
      "149\n",
      "key is During his term in office, America's reputation in global polling significantly improved.\n",
      "150\n",
      "key is Evaluations of his presidency among historians and the general public place him among the upper tier of American presidents.\n",
      "151\n",
      "key is Obama left office in January 2017 and currently resides in Washington, D.C.Allegations that Barack Obama secretly practices Islam, or that he is the antichrist of Christian eschatology, have been suggested since he campaigned for the U.S. Senate in 2004 and proliferated after his election as President of the U.S. in 2008.\n",
      "152\n",
      "key is As with conspiracy theories surrounding his citizenship status, the claims are promoted by various fringe theorists and political opponents, with American bloggers and conservative talk radio hosts particularly promoting the theories.\n",
      "153\n",
      "key is Belief in these claims in the public sphere endured and, in some cases, even expanded during Obama's presidency according to the Pew Research Center, with 17% of Americans (including one third of conservative Republicans) believing him to be a Muslim in a 2012 poll.Barack Obama is a Protestant Christian.\n",
      "154\n",
      "key is While in his twenties, Obama was involved with the Black churches.\n",
      "155\n",
      "key is From 1992 until 2008, he was a member of the Trinity United Church of Christ—a Reformed denomination.\n",
      "156\n",
      "key is Obama left it in the wake of the Jeremiah Wright controversy.\n",
      "157\n",
      "key is Since 2008, he attends various Protestant churches, including Baptist, Methodist and Episcopalian churches.Barack Obama served as the 44th President of the United States from 2009 to 2017.\n",
      "158\n",
      "key is Before his presidency, he served in the Illinois Senate (1997–2004) and the United States Senate (2005–2008).\n",
      "159\n",
      "key is It was during his campaign for the United States Senate that he first made a speech that received nationwide attention; he gave the keynote address at the 2004 Democratic National Convention.\n",
      "160\n",
      "key is and stated \"there is not a liberal America and a conservative America—there is the United States of America\".\n",
      "161\n",
      "key is Obama began to run for president just three years after that speech.\n",
      "162\n",
      "key is In response to a political controversy involving race during the primary campaign, he delivered his \"A More Perfect Union\" speech, which was widely seen as a critical point in the campaign.\n",
      "163\n",
      "key is Obama won election to the presidency in 2008 and re-election in 2012.\n",
      "164\n",
      "key is Among the hundreds of speeches he has delivered since then include six speeches before Congress (including four State of the Union addresses), two victory speeches, a speech to the Islamic world in Egypt early in his first term, and a speech following the shooting of Congresswoman Gabrielle Giffords.\n",
      "165\n",
      "key is On 10 Jan 2017, We Are The Change We Seek, a collection of Barack Obama's greatest speeches selected and introduced by columnist E.J.\n",
      "166\n",
      "key is Dionne and MSNBC host Joy-Ann Reid was published by Bloomsbury Publishing.During Barack Obama's tenure as President of the United States from 2009 to 2017, certain Republican members of Congress, as well as Democratic congressman Dennis Kucinich, stated that Obama had engaged in impeachable activity and that he might face attempts to remove him from office.\n",
      "167\n",
      "key is Rationales offered for possible impeachment included false claims that Obama was born outside the United States, that he allegedly allowed people to use bathrooms based on their gender identity, an alleged White House cover-up after the 2012 Benghazi attack, and failure to enforce immigration laws.\n",
      "168\n",
      "key is No list of articles of impeachment was ever drawn up and proposed to the Judiciary Committee.\n",
      "169\n",
      "key is Multiple surveys of U.S. public opinion found that the clear majority of Americans rejected the idea of impeaching Obama, while a majority of Republicans were in favor; for example, CNN found in July 2014 that 57% of Republicans supported efforts while about two thirds of adult Americans in general disagreed.Barack Obama, the 44th President of the United States, was born on August 4, 1961 in Honolulu, Hawaii to Barack Obama, Sr. (1936–1982) (born in Rachuonyo District, British Kenya) and Stanley Ann Dunham, known as Ann (1942–1995) (born in Wichita, Kansas, United States).Barack Obama spent most of his childhood years in Honolulu, where his mother attended the University of Hawaii at Manoa.\n",
      "170\n",
      "key is Obama started a close relationship with his maternal grandparents.\n",
      "171\n",
      "key is In 1965, his mother remarried to Lolo Soetoro from Indonesia.\n",
      "172\n",
      "key is Two years later, Dunham took Obama with her to Indonesia to reunite him with his stepfather.\n",
      "173\n",
      "key is In 1971, Obama returned to Honolulu to attend Punahou School, from which he graduated in 1979.\n",
      "174\n",
      "key is As a young adult, Obama moved to the contiguous United States, where he was educated at Occidental College, Columbia University, and Harvard Law School.\n",
      "175\n",
      "key is In Chicago, Obama worked at various times as a community organizer, lawyer, Lecturer and Senior Lecturer of constitutional law at the University of Chicago Law School in the city's South Side, and later published his memoir Dreams from My Father before beginning his political career in 1997 as a member of the Illinois Senate.The presidency of Barack Obama began at noon EST on January 20, 2009, when Barack Obama was inaugurated as the 44th President of the United States, and ended on January 20, 2017.\n",
      "176\n",
      "key is Obama, a Democrat, took office following a decisive victory over Republican John McCain in the 2008 presidential election.\n",
      "177\n",
      "key is Four years later, in the 2012 election, he defeated Republican Mitt Romney to win re-election.\n",
      "178\n",
      "key is He was the first African American president, the first multiracial president, the first non-white president, and the first president to have been born in Hawaii.\n",
      "179\n",
      "key is Obama was succeeded by Republican Donald Trump, who won the 2016 presidential election.\n",
      "180\n",
      "key is Obama's first-term actions addressed the global financial crisis and included a major stimulus package, a partial extension of the Bush tax cuts, legislation to reform health care, a major financial regulation reform bill, and the end of a major US military presence in Iraq.\n",
      "181\n",
      "key is Obama also appointed Supreme Court Justices Elena Kagan and Sonia Sotomayor, the latter of whom became the first Hispanic American on the Supreme Court.\n",
      "182\n",
      "key is Democrats controlled both houses of Congress until Republicans won a majority in the House of Representatives in the 2010 elections.\n",
      "183\n",
      "key is Following the elections, Obama and Congressional Republicans engaged in a protracted stand-off over government spending levels and the debt ceiling.\n",
      "184\n",
      "key is The Obama administration's policy against terrorism downplayed Bush's counterinsurgency model, expanding air strikes and making extensive use of special forces and encouraging greater reliance on host-government militaries.\n",
      "185\n",
      "key is The Obama administration orchestrated the military operation that resulted in the death of Osama bin Laden in 2011.\n",
      "186\n",
      "key is In his second term, Obama took steps to combat climate change, signing a major international climate agreement and an executive order to limit carbon emissions.\n",
      "187\n",
      "key is Obama also presided over the implementation of the Affordable Care Act and other legislation passed in his first term, and he negotiated rapprochements with Iran and Cuba.\n",
      "188\n",
      "key is The number of American soldiers in Afghanistan fell dramatically during Obama's second term, though U.S. soldiers remained in Afghanistan throughout Obama's presidency and continue to as of 2018.\n",
      "189\n",
      "key is Republicans took control of the Senate after the 2014 elections, and Obama continued to grapple with Congressional Republicans over government spending, immigration, judicial nominations, and other issues.Following his victory in the United States presidential election, 2008, then-President-elect Barack Obama gave his victory speech at Grant Park in his home city of Chicago, Illinois, on November 4, 2008, before an estimated crowd of 240,000.\n",
      "190\n",
      "key is Viewed on television and the Internet by millions of people around the globe, Obama's speech focused on the major issues facing the United States and the world, all echoed through his campaign slogan of change.\n",
      "191\n",
      "key is He also mentioned his maternal grandmother Madelyn Dunham, who had died just two nights earlier.\n",
      "192\n",
      "key is How many Nobel laureates has Oxford educated?\n",
      "193\n",
      "key is When is Barack Obama born ?\n"
     ]
    }
   ],
   "source": [
    "for i, key in enumerate(dict_embeddings):\n",
    "    print(i)\n",
    "    print(\"key is \" + key)"
   ]
  },
  {
   "cell_type": "code",
   "execution_count": 89,
   "metadata": {},
   "outputs": [],
   "source": [
    "dict_emb = dict_embeddings"
   ]
  },
  {
   "cell_type": "code",
   "execution_count": 90,
   "metadata": {
    "collapsed": true
   },
   "outputs": [],
   "source": [
    "def process_data(train):\n",
    "    \n",
    "    print(\"step 1\")\n",
    "#     train['sentences'] = train['context'].apply(lambda x: [item.raw for item in TextBlob(x).sentences])\n",
    "    train['wiki_sentences'] = train['wiki_context'].apply(lambda x: [item.raw for item in TextBlob(x).sentences])\n",
    "    \n",
    "#     print(\"step 2\")\n",
    "#     train[\"target\"] = train.apply(get_target, axis = 1)\n",
    "    \n",
    "    print(\"step 3\")\n",
    "    train['wiki_sent_emb'] = train['wiki_sentences'].apply(lambda x: [dict_emb[item][0] if item in\\\n",
    "                                                           dict_emb else np.zeros(4096) for item in x])\n",
    "    print(\"step 4\")\n",
    "    train['quest_emb'] = train['question'].apply(lambda x: dict_emb[x] if x in dict_emb else np.zeros(4096) )\n",
    "        \n",
    "    return train   "
   ]
  },
  {
   "cell_type": "code",
   "execution_count": 91,
   "metadata": {
    "collapsed": true
   },
   "outputs": [
    {
     "name": "stdout",
     "output_type": "stream",
     "text": [
      "step 1\n",
      "step 3\n",
      "step 4\n"
     ]
    }
   ],
   "source": [
    "train = process_data(df2)"
   ]
  },
  {
   "cell_type": "code",
   "execution_count": 92,
   "metadata": {
    "collapsed": true
   },
   "outputs": [
    {
     "data": {
      "text/plain": [
       "'Barack Hussein Obama Sr. (; 18 June 1936 – 24 November 1982) was a Kenyan senior governmental economist and the father of Barack Obama, the 44th President of the United States. He is a central figure of his son\\'s memoir, Dreams from My Father (1995). Obama married in 1954 and had two children with his first wife, Kezia. He was selected for a special program to attend college in the United States and studied at the University of Hawaii. There, Obama met Stanley Ann Dunham, whom he married in 1961, and with whom he had a son, Barack II. She divorced him three years later. The elder Obama later went to Harvard University for graduate school, where he earned an M.A. in economics, and returned to Kenya in 1964. He saw his son Barack once more, when he was about ten.\\nIn late 1964, Obama Sr. married Ruth Beatrice Baker, a Jewish-American woman whom he had met in Massachusetts. They had two sons together before separating in 1971 and divorcing in 1973. Obama first worked for an oil company, before beginning work as an economist with the Kenyan Ministry of Transport. He gained a promotion to senior economic analyst in the Ministry of Finance. He was among a cadre of young Kenyan men who had been educated in the West in a program supported by Tom Mboya. Obama Sr. had conflicts with Kenyan President Jomo Kenyatta, which adversely affected his career. He was fired and blacklisted in Kenya, finding it nearly impossible to get a job. Obama Sr. was involved in three serious car accidents during his final years; he died as a result of the last one in 1982.The family of Barack Obama, the 44th President of the United States, and his wife Michelle Obama is made up of people of Kenyan (Luo), African-American, and Old Stock American (including originally English, Scots-Irish, Welsh, German, and Swiss) ancestry. Their immediate family was the First Family of the United States from 2009 to 2017. The Obamas are the first First Family of African-American descent.During Barack Obama\\'s campaign for president in 2008, throughout his presidency, and afterwards, a number of conspiracy theories falsely asserted Obama was ineligible to be President of the United States because he was not a natural-born citizen of the U.S. as required by Article Two of the Constitution.\\nTheories alleged that Obama\\'s published birth certificate was a forgery—that his actual birthplace was not Hawaii but Kenya. Other theories alleged that Obama became a citizen of Indonesia in childhood, thereby losing his U.S. citizenship. Still others claimed that Obama was not a natural-born U.S. citizen because he was born a dual citizen (British and American). A number of political commentators have characterized these various claims as a racist reaction to Obama\\'s status as the first African-American president of the United States.These claims were promoted by fringe theorists (pejoratively referred to as \"birthers\"), some of whom sought court rulings either to declare Obama ineligible to take office, or granting access to various documents which they claimed would evidence such ineligibility; none of these efforts were successful. Some political opponents, especially in the Republican Party, have expressed skepticism about Obama\\'s citizenship or been unwilling to acknowledge it; some have proposed legislation which would require presidential candidates to provide proof of eligibility.Expressed belief in such theories has persisted despite Obama\\'s pre-election release of his official Hawaiian birth certificate in 2008, confirmation by the Hawaii Department of Health based on the original documents, the April 2011 release of a certified copy of Obama\\'s original Certificate of Live Birth (or long-form birth certificate), and contemporaneous birth announcements published in Hawaii newspapers. Polls conducted in 2010 (before the April 2011 release) suggested that at least 25% of adult Americans said that they doubted Obama\\'s U.S. birth, and subsequently a May 2011 Gallup poll found that the percentage had fallen to 13% of American adults (23% of Republicans) who continued to express such doubts.  This plummeting percentage of doubters has been attributed to President Obama\\'s release of the long form in April 2011.Barack Hussein Obama II ( (listen); born August 4, 1961) is an American politician who served as the 44th President of the United States from 2009 to 2017. A member of the Democratic Party, he was the first African American to be elected to the presidency and previously served as a United States Senator from Illinois (2005–2008).\\nObama was born in 1961 in Honolulu, Hawaii, two years after the territory was admitted to the Union as the 50th state. After graduating from Columbia University in 1983, he worked as a community organizer in Chicago. In 1988, he enrolled in Harvard Law School, where he was the first black president of the Harvard Law Review. After graduating, he became a civil rights attorney and an academic, teaching constitutional law at the University of Chicago Law School from 1992 to 2004. He represented the 13th district for three terms in the Illinois Senate from 1997 to 2004, when he ran for the U.S. Senate. He received national attention in 2004 with his March primary win, his well-received July Democratic National Convention keynote address, and his landslide November election to the Senate. In 2008, he was nominated for president a year after his campaign began and after a close primary campaign against Hillary Clinton. He was elected over Republican John McCain and was inaugurated on January 20, 2009. Nine months later, he was named the 2009 Nobel Peace Prize laureate.\\nDuring his first two years in office, Obama signed many landmark bills into law. The main reforms were the Patient Protection and Affordable Care Act (often referred to as \"Obamacare\", shortened as the \"Affordable Care Act\"), the Dodd–Frank Wall Street Reform and Consumer Protection Act, and the Don\\'t Ask, Don\\'t Tell Repeal Act of 2010. The American Recovery and Reinvestment Act of 2009 and Tax Relief, Unemployment Insurance Reauthorization, and Job Creation Act of 2010 served as economic stimulus amidst the Great Recession. After a lengthy debate over the national debt limit, he signed the Budget Control and the American Taxpayer Relief Acts. In foreign policy, he increased U.S. troop levels in Afghanistan, reduced nuclear weapons with the United States–Russia New START treaty, and ended military involvement in the Iraq War. He ordered military involvement in Libya in opposition to Muammar Gaddafi; Gaddafi was killed by NATO-assisted forces. He also ordered the military operations that resulted in the deaths of Osama bin Laden and suspected Yemeni Al-Qaeda operative Anwar al-Awlaki.\\nAfter winning re-election by defeating Republican opponent Mitt Romney, Obama was sworn in for a second term in 2013. During this term, he promoted inclusiveness for LGBT Americans. His administration filed briefs that urged the Supreme Court to strike down same-sex marriage bans as unconstitutional (United States v. Windsor and Obergefell v. Hodges); same-sex marriage was fully legalized in 2015 after the Court ruled that a same-sex marriage ban was unconstitutional in Obergefell. He advocated for gun control in response to the Sandy Hook Elementary School shooting, indicating support for a ban on assault weapons, and issued wide-ranging executive actions concerning climate change and immigration. In foreign policy, he ordered military intervention in Iraq in response to gains made by ISIL after the 2011 withdrawal from Iraq, continued the process of ending U.S. combat operations in Afghanistan in 2016, promoted discussions that led to the 2015 Paris Agreement on global climate change, initiated sanctions against Russia following the invasion in Ukraine and again after Russian interference in the 2016 United States elections, brokered a nuclear deal with Iran, and normalized U.S. relations with Cuba. During his term in office, America\\'s reputation in global polling significantly improved. Evaluations of his presidency among historians and the general public place him among the upper tier of American presidents. Obama left office in January 2017 and currently resides in Washington, D.C.Allegations that Barack Obama secretly practices Islam, or that he is the antichrist of Christian eschatology, have been suggested since he campaigned for the U.S. Senate in 2004 and proliferated after his election as President of the U.S. in 2008. As with conspiracy theories surrounding his citizenship status, the claims are promoted by various fringe theorists and political opponents, with American bloggers and conservative talk radio hosts particularly promoting the theories.\\nBelief in these claims in the public sphere endured and, in some cases, even expanded during Obama\\'s presidency according to the Pew Research Center, with 17% of Americans (including one third of conservative Republicans) believing him to be a Muslim in a 2012 poll.Barack Obama is a Protestant Christian. While in his twenties, Obama was involved with the Black churches. From 1992 until 2008, he was a member of the Trinity United Church of Christ—a Reformed denomination. Obama left it in the wake of the Jeremiah Wright controversy. Since 2008, he attends various Protestant churches, including Baptist, Methodist and Episcopalian churches.Barack Obama served as the 44th President of the United States from 2009 to 2017. Before his presidency, he served in the Illinois Senate (1997–2004) and the United States Senate (2005–2008).\\nIt was during his campaign for the United States Senate that he first made a speech that received nationwide attention; he gave the keynote address at the 2004 Democratic National Convention. and stated \"there is not a liberal America and a conservative America—there is the United States of America\". Obama began to run for president just three years after that speech. In response to a political controversy involving race during the primary campaign, he delivered his \"A More Perfect Union\" speech, which was widely seen as a critical point in the campaign.\\nObama won election to the presidency in 2008 and re-election in 2012. Among the hundreds of speeches he has delivered since then include six speeches before Congress (including four State of the Union addresses), two victory speeches, a speech to the Islamic world in Egypt early in his first term, and a speech following the shooting of Congresswoman Gabrielle Giffords.\\nOn 10 Jan 2017, We Are The Change We Seek, a collection of Barack Obama\\'s greatest speeches selected and introduced by columnist E.J. Dionne and MSNBC host Joy-Ann Reid was published by Bloomsbury Publishing.During Barack Obama\\'s tenure as President of the United States from 2009 to 2017, certain Republican members of Congress, as well as Democratic congressman Dennis Kucinich, stated that Obama had engaged in impeachable activity and that he might face attempts to remove him from office. Rationales offered for possible impeachment included false claims that Obama was born outside the United States, that he allegedly allowed people to use bathrooms based on their gender identity, an alleged White House cover-up after the 2012 Benghazi attack, and failure to enforce immigration laws.  No list of articles of impeachment was ever drawn up and proposed to the Judiciary Committee.\\nMultiple surveys of U.S. public opinion found that the clear majority of Americans rejected the idea of impeaching Obama, while a majority of Republicans were in favor; for example, CNN found in July 2014 that 57% of Republicans supported efforts while about two thirds of adult Americans in general disagreed.Barack Obama, the 44th President of the United States, was born on August 4, 1961 in Honolulu, Hawaii to Barack Obama, Sr. (1936–1982) (born in Rachuonyo District, British Kenya) and Stanley Ann Dunham, known as Ann (1942–1995) (born in Wichita, Kansas, United States).Barack Obama spent most of his childhood years in Honolulu, where his mother attended the University of Hawaii at Manoa. Obama started a close relationship with his maternal grandparents. In 1965, his mother remarried to Lolo Soetoro from Indonesia. Two years later, Dunham took Obama with her to Indonesia to reunite him with his stepfather. In 1971, Obama returned to Honolulu to attend Punahou School, from which he graduated in 1979.\\nAs a young adult, Obama moved to the contiguous United States, where he was educated at Occidental College, Columbia University, and Harvard Law School. In Chicago, Obama worked at various times as a community organizer, lawyer, Lecturer and Senior Lecturer of constitutional law at the University of Chicago Law School in the city\\'s South Side, and later published his memoir Dreams from My Father before beginning his political career in 1997 as a member of the Illinois Senate.The presidency of Barack Obama began at noon EST on January 20, 2009, when Barack Obama was inaugurated as the 44th President of the United States, and ended on January 20, 2017. Obama, a Democrat, took office following a decisive victory over Republican John McCain in the 2008 presidential election. Four years later, in the 2012 election, he defeated Republican Mitt Romney to win re-election. He was the first African American president, the first multiracial president, the first non-white president, and the first president to have been born in Hawaii. Obama was succeeded by Republican Donald Trump, who won the 2016 presidential election.\\nObama\\'s first-term actions addressed the global financial crisis and included a major stimulus package, a partial extension of the Bush tax cuts, legislation to reform health care, a major financial regulation reform bill, and the end of a major US military presence in Iraq. Obama also appointed Supreme Court Justices Elena Kagan and Sonia Sotomayor, the latter of whom became the first Hispanic American on the Supreme Court. Democrats controlled both houses of Congress until Republicans won a majority in the House of Representatives in the 2010 elections. Following the elections, Obama and Congressional Republicans engaged in a protracted stand-off over government spending levels and the debt ceiling. The Obama administration\\'s policy against terrorism downplayed Bush\\'s counterinsurgency model, expanding air strikes and making extensive use of special forces and encouraging greater reliance on host-government militaries. The Obama administration orchestrated the military operation that resulted in the death of Osama bin Laden in 2011.\\nIn his second term, Obama took steps to combat climate change, signing a major international climate agreement and an executive order to limit carbon emissions. Obama also presided over the implementation of the Affordable Care Act and other legislation passed in his first term, and he negotiated rapprochements with Iran and Cuba. The number of American soldiers in Afghanistan fell dramatically during Obama\\'s second term, though U.S. soldiers remained in Afghanistan throughout Obama\\'s presidency and continue to as of 2018. Republicans took control of the Senate after the 2014 elections, and Obama continued to grapple with Congressional Republicans over government spending, immigration, judicial nominations, and other issues.Following his victory in the United States presidential election, 2008, then-President-elect Barack Obama gave his victory speech at Grant Park in his home city of Chicago, Illinois, on November 4, 2008, before an estimated crowd of 240,000. Viewed on television and the Internet by millions of people around the globe, Obama\\'s speech focused on the major issues facing the United States and the world, all echoed through his campaign slogan of change. He also mentioned his maternal grandmother Madelyn Dunham, who had died just two nights earlier.'"
      ]
     },
     "execution_count": 92,
     "metadata": {},
     "output_type": "execute_result"
    }
   ],
   "source": [
    "train['wiki_context'][1]"
   ]
  },
  {
   "cell_type": "code",
   "execution_count": 93,
   "metadata": {
    "collapsed": true
   },
   "outputs": [],
   "source": [
    "def cosine_sim_wiki(x):\n",
    "    li = []\n",
    "    for item in x['wiki_sent_emb']:\n",
    "        li.append(spatial.distance.cosine(item,x[\"quest_emb\"][0]))\n",
    "    return li   "
   ]
  },
  {
   "cell_type": "code",
   "execution_count": 94,
   "metadata": {
    "collapsed": true
   },
   "outputs": [],
   "source": [
    "def pred_idx(distances):\n",
    "    return np.argmin(distances)   \n",
    "\n",
    "def get_sent_by_idx(x):\n",
    "    return x['wiki_sentences'][x[\"pred_idx_cos\"]]\n",
    "\n",
    "def predictions(train):\n",
    "    \n",
    "    train[\"cosine_sim_wiki\"] = train.apply(cosine_sim_wiki, axis = 1)\n",
    "\n",
    "    \n",
    "    print(\"cosine start\")\n",
    "    \n",
    "    train[\"pred_idx_cos\"] = train[\"cosine_sim_wiki\"].apply(lambda x: pred_idx(x))\n",
    "\n",
    "    train[\"pred_sen_cos\"] = train.apply(get_sent_by_idx,axis = 1)\n",
    "\n",
    "\n",
    "    return train"
   ]
  },
  {
   "cell_type": "code",
   "execution_count": 95,
   "metadata": {
    "collapsed": true
   },
   "outputs": [
    {
     "name": "stdout",
     "output_type": "stream",
     "text": [
      "cosine start\n"
     ]
    }
   ],
   "source": [
    "predicted = predictions(train)"
   ]
  },
  {
   "cell_type": "code",
   "execution_count": 98,
   "metadata": {},
   "outputs": [
    {
     "data": {
      "text/html": [
       "<div>\n",
       "<style scoped>\n",
       "    .dataframe tbody tr th:only-of-type {\n",
       "        vertical-align: middle;\n",
       "    }\n",
       "\n",
       "    .dataframe tbody tr th {\n",
       "        vertical-align: top;\n",
       "    }\n",
       "\n",
       "    .dataframe thead th {\n",
       "        text-align: right;\n",
       "    }\n",
       "</style>\n",
       "<table border=\"1\" class=\"dataframe\">\n",
       "  <thead>\n",
       "    <tr style=\"text-align: right;\">\n",
       "      <th></th>\n",
       "      <th>question</th>\n",
       "      <th>search</th>\n",
       "      <th>wiki_context</th>\n",
       "      <th>wiki_sentences</th>\n",
       "      <th>wiki_sent_emb</th>\n",
       "      <th>quest_emb</th>\n",
       "      <th>cosine_sim_wiki</th>\n",
       "      <th>pred_idx_cos</th>\n",
       "      <th>pred_sen_cos</th>\n",
       "    </tr>\n",
       "  </thead>\n",
       "  <tbody>\n",
       "    <tr>\n",
       "      <th>0</th>\n",
       "      <td>How many Nobel laureates has Oxford educated?</td>\n",
       "      <td>How many Nobel laureates has Oxford educated?</td>\n",
       "      <td>James Edward Meade,  (23 June 1907 – 22 Decemb...</td>\n",
       "      <td>[James Edward Meade,  (23 June 1907 – 22 Decem...</td>\n",
       "      <td>[[0.060178213, 0.14402713, 0.10489873, 0.09181...</td>\n",
       "      <td>[[0.08558939, 0.06849944, 0.06744689, 0.020278...</td>\n",
       "      <td>[0.406599760055542, 0.5233998894691467, 0.3752...</td>\n",
       "      <td>16</td>\n",
       "      <td>The university is consistently cited as among ...</td>\n",
       "    </tr>\n",
       "    <tr>\n",
       "      <th>1</th>\n",
       "      <td>When is Barack Obama born ?</td>\n",
       "      <td>When is Barack Obama born ?</td>\n",
       "      <td>Barack Hussein Obama Sr. (; 18 June 1936 – 24 ...</td>\n",
       "      <td>[Barack Hussein Obama Sr. (; 18 June 1936 – 24...</td>\n",
       "      <td>[[0.10311202, 0.097919255, 0.13796782, 0.03961...</td>\n",
       "      <td>[[0.13599062, 0.10439181, 0.08953286, 0.010812...</td>\n",
       "      <td>[0.3906702399253845, 0.5466042459011078, 0.420...</td>\n",
       "      <td>78</td>\n",
       "      <td>Obama was succeeded by Republican Donald Trump...</td>\n",
       "    </tr>\n",
       "  </tbody>\n",
       "</table>\n",
       "</div>"
      ],
      "text/plain": [
       "                                        question  \\\n",
       "0  How many Nobel laureates has Oxford educated?   \n",
       "1                    When is Barack Obama born ?   \n",
       "\n",
       "                                          search  \\\n",
       "0  How many Nobel laureates has Oxford educated?   \n",
       "1                    When is Barack Obama born ?   \n",
       "\n",
       "                                        wiki_context  \\\n",
       "0  James Edward Meade,  (23 June 1907 – 22 Decemb...   \n",
       "1  Barack Hussein Obama Sr. (; 18 June 1936 – 24 ...   \n",
       "\n",
       "                                      wiki_sentences  \\\n",
       "0  [James Edward Meade,  (23 June 1907 – 22 Decem...   \n",
       "1  [Barack Hussein Obama Sr. (; 18 June 1936 – 24...   \n",
       "\n",
       "                                       wiki_sent_emb  \\\n",
       "0  [[0.060178213, 0.14402713, 0.10489873, 0.09181...   \n",
       "1  [[0.10311202, 0.097919255, 0.13796782, 0.03961...   \n",
       "\n",
       "                                           quest_emb  \\\n",
       "0  [[0.08558939, 0.06849944, 0.06744689, 0.020278...   \n",
       "1  [[0.13599062, 0.10439181, 0.08953286, 0.010812...   \n",
       "\n",
       "                                     cosine_sim_wiki  pred_idx_cos  \\\n",
       "0  [0.406599760055542, 0.5233998894691467, 0.3752...            16   \n",
       "1  [0.3906702399253845, 0.5466042459011078, 0.420...            78   \n",
       "\n",
       "                                        pred_sen_cos  \n",
       "0  The university is consistently cited as among ...  \n",
       "1  Obama was succeeded by Republican Donald Trump...  "
      ]
     },
     "execution_count": 98,
     "metadata": {},
     "output_type": "execute_result"
    }
   ],
   "source": [
    "predicted"
   ]
  },
  {
   "cell_type": "code",
   "execution_count": 100,
   "metadata": {
    "collapsed": true
   },
   "outputs": [
    {
     "data": {
      "text/plain": [
       "'Obama was succeeded by Republican Donald Trump, who won the 2016 presidential election.'"
      ]
     },
     "execution_count": 100,
     "metadata": {},
     "output_type": "execute_result"
    }
   ],
   "source": [
    "predicted['pred_sen_cos'][1]"
   ]
  },
  {
   "cell_type": "code",
   "execution_count": null,
   "metadata": {
    "collapsed": true
   },
   "outputs": [],
   "source": []
  }
 ],
 "metadata": {
  "hide_input": false,
  "kernelspec": {
   "display_name": "Python 3",
   "language": "python",
   "name": "python3"
  },
  "language_info": {
   "codemirror_mode": {
    "name": "ipython",
    "version": 3
   },
   "file_extension": ".py",
   "mimetype": "text/x-python",
   "name": "python",
   "nbconvert_exporter": "python",
   "pygments_lexer": "ipython3",
   "version": "3.6.5"
  }
 },
 "nbformat": 4,
 "nbformat_minor": 2
}
